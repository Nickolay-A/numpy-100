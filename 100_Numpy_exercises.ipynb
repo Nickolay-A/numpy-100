{
 "cells": [
  {
   "cell_type": "markdown",
   "id": "ad1d1330",
   "metadata": {},
   "source": [
    "# 100 numpy exercises\n",
    "\n",
    "This is a collection of exercises that have been collected in the numpy mailing list, on stack overflow\n",
    "and in the numpy documentation. The goal of this collection is to offer a quick reference for both old\n",
    "and new users but also to provide a set of exercises for those who teach.\n",
    "\n",
    "\n",
    "If you find an error or think you've a better way to solve some of them, feel\n",
    "free to open an issue at <https://github.com/rougier/numpy-100>."
   ]
  },
  {
   "cell_type": "markdown",
   "id": "1d620162",
   "metadata": {},
   "source": [
    "File automatically generated. See the documentation to update questions/answers/hints programmatically."
   ]
  },
  {
   "cell_type": "markdown",
   "id": "8574d627",
   "metadata": {},
   "source": [
    "Run the `initialize.py` module, then for each question you can query the\n",
    "answer or an hint with `hint(n)` or `answer(n)` for `n` question number."
   ]
  },
  {
   "cell_type": "code",
   "execution_count": 1,
   "id": "c6fe8a29",
   "metadata": {},
   "outputs": [],
   "source": [
    "%run initialise.py"
   ]
  },
  {
   "cell_type": "markdown",
   "id": "954c5d8f",
   "metadata": {},
   "source": [
    "#### 1. Import the numpy package under the name `np` (★☆☆)"
   ]
  },
  {
   "cell_type": "code",
   "execution_count": 2,
   "id": "4006c08e",
   "metadata": {},
   "outputs": [],
   "source": [
    "import numpy as np"
   ]
  },
  {
   "cell_type": "markdown",
   "id": "88e34f09",
   "metadata": {},
   "source": [
    "#### 2. Print the numpy version and the configuration (★☆☆)"
   ]
  },
  {
   "cell_type": "code",
   "execution_count": 3,
   "id": "b1122a25",
   "metadata": {},
   "outputs": [
    {
     "data": {
      "text/plain": [
       "'1.26.1'"
      ]
     },
     "execution_count": 3,
     "metadata": {},
     "output_type": "execute_result"
    }
   ],
   "source": [
    "np.__version__"
   ]
  },
  {
   "cell_type": "code",
   "execution_count": 4,
   "id": "f733e226",
   "metadata": {},
   "outputs": [
    {
     "name": "stdout",
     "output_type": "stream",
     "text": [
      "Build Dependencies:\n",
      "  blas:\n",
      "    detection method: pkgconfig\n",
      "    found: true\n",
      "    include directory: /c/opt/64/include\n",
      "    lib directory: /c/opt/64/lib\n",
      "    name: openblas64\n",
      "    openblas configuration: USE_64BITINT=1 DYNAMIC_ARCH=1 DYNAMIC_OLDER= NO_CBLAS=\n",
      "      NO_LAPACK= NO_LAPACKE= NO_AFFINITY=1 USE_OPENMP= SKYLAKEX MAX_THREADS=2\n",
      "    pc file directory: C:/opt/64/lib/pkgconfig\n",
      "    version: 0.3.23.dev\n",
      "  lapack:\n",
      "    detection method: internal\n",
      "    found: true\n",
      "    include directory: unknown\n",
      "    lib directory: unknown\n",
      "    name: dep2209613275984\n",
      "    openblas configuration: unknown\n",
      "    pc file directory: unknown\n",
      "    version: 1.26.1\n",
      "Compilers:\n",
      "  c:\n",
      "    commands: cl\n",
      "    linker: link\n",
      "    name: msvc\n",
      "    version: 19.29.30152\n",
      "  c++:\n",
      "    commands: cl\n",
      "    linker: link\n",
      "    name: msvc\n",
      "    version: 19.29.30152\n",
      "  cython:\n",
      "    commands: cython\n",
      "    linker: cython\n",
      "    name: cython\n",
      "    version: 3.0.3\n",
      "Machine Information:\n",
      "  build:\n",
      "    cpu: x86_64\n",
      "    endian: little\n",
      "    family: x86_64\n",
      "    system: windows\n",
      "  host:\n",
      "    cpu: x86_64\n",
      "    endian: little\n",
      "    family: x86_64\n",
      "    system: windows\n",
      "Python Information:\n",
      "  path: C:\\Users\\runneradmin\\AppData\\Local\\Temp\\cibw-run-67h8h5ot\\cp310-win_amd64\\build\\venv\\Scripts\\python.exe\n",
      "  version: '3.10'\n",
      "SIMD Extensions:\n",
      "  baseline:\n",
      "  - SSE\n",
      "  - SSE2\n",
      "  - SSE3\n",
      "  found:\n",
      "  - SSSE3\n",
      "  - SSE41\n",
      "  - POPCNT\n",
      "  - SSE42\n",
      "  - AVX\n",
      "  - F16C\n",
      "  - FMA3\n",
      "  - AVX2\n",
      "  not found:\n",
      "  - AVX512F\n",
      "  - AVX512CD\n",
      "  - AVX512_SKX\n",
      "  - AVX512_CLX\n",
      "  - AVX512_CNL\n",
      "  - AVX512_ICL\n",
      "\n"
     ]
    }
   ],
   "source": [
    "np.show_config()"
   ]
  },
  {
   "cell_type": "code",
   "execution_count": 5,
   "id": "b8dad575",
   "metadata": {},
   "outputs": [
    {
     "name": "stdout",
     "output_type": "stream",
     "text": [
      "print(np.__version__)\n",
      "np.show_config()\n"
     ]
    }
   ],
   "source": [
    "answer(2)"
   ]
  },
  {
   "cell_type": "markdown",
   "id": "37c21848",
   "metadata": {},
   "source": [
    "#### 3. Create a null vector of size 10 (★☆☆)"
   ]
  },
  {
   "cell_type": "code",
   "execution_count": 6,
   "id": "e090a462",
   "metadata": {},
   "outputs": [
    {
     "data": {
      "text/plain": [
       "array([9.11061110e-312, 1.77863633e-322, 0.00000000e+000, 0.00000000e+000,\n",
       "       0.00000000e+000, 1.95242245e+160, 2.14331268e+184, 7.43241580e-091,\n",
       "       8.61483271e-043, 8.30724462e-315])"
      ]
     },
     "execution_count": 6,
     "metadata": {},
     "output_type": "execute_result"
    }
   ],
   "source": [
    "np.empty(10)"
   ]
  },
  {
   "cell_type": "code",
   "execution_count": 12,
   "id": "d0f1d76b",
   "metadata": {},
   "outputs": [
    {
     "name": "stdout",
     "output_type": "stream",
     "text": [
      "Z = np.zeros(10)\n",
      "print(Z)\n"
     ]
    }
   ],
   "source": [
    "answer(3)"
   ]
  },
  {
   "cell_type": "markdown",
   "id": "7c0e6add",
   "metadata": {},
   "source": [
    "#### 4. How to find the memory size of any array (★☆☆)"
   ]
  },
  {
   "cell_type": "code",
   "execution_count": 9,
   "id": "8c96715d",
   "metadata": {},
   "outputs": [
    {
     "data": {
      "text/plain": [
       "8"
      ]
     },
     "execution_count": 9,
     "metadata": {},
     "output_type": "execute_result"
    }
   ],
   "source": [
    "a = np.random.random(1)\n",
    "a.nbytes"
   ]
  },
  {
   "cell_type": "code",
   "execution_count": 13,
   "id": "7d6adda6",
   "metadata": {},
   "outputs": [
    {
     "name": "stdout",
     "output_type": "stream",
     "text": [
      "Z = np.zeros((10,10))\n",
      "print(\"%d bytes\" % (Z.size * Z.itemsize))\n"
     ]
    }
   ],
   "source": [
    "answer(4)"
   ]
  },
  {
   "cell_type": "markdown",
   "id": "4cf547db",
   "metadata": {},
   "source": [
    "#### 5. How to get the documentation of the numpy add function from the command line? (★☆☆)"
   ]
  },
  {
   "cell_type": "code",
   "execution_count": 18,
   "id": "2a24a1e9",
   "metadata": {},
   "outputs": [
    {
     "name": "stdout",
     "output_type": "stream",
     "text": [
      "Help on ufunc:\n",
      "\n",
      "add = <ufunc 'add'>\n",
      "    add(x1, x2, /, out=None, *, where=True, casting='same_kind', order='K', dtype=None, subok=True[, signature, extobj])\n",
      "    \n",
      "    Add arguments element-wise.\n",
      "    \n",
      "    Parameters\n",
      "    ----------\n",
      "    x1, x2 : array_like\n",
      "        The arrays to be added.\n",
      "        If ``x1.shape != x2.shape``, they must be broadcastable to a common\n",
      "        shape (which becomes the shape of the output).\n",
      "    out : ndarray, None, or tuple of ndarray and None, optional\n",
      "        A location into which the result is stored. If provided, it must have\n",
      "        a shape that the inputs broadcast to. If not provided or None,\n",
      "        a freshly-allocated array is returned. A tuple (possible only as a\n",
      "        keyword argument) must have length equal to the number of outputs.\n",
      "    where : array_like, optional\n",
      "        This condition is broadcast over the input. At locations where the\n",
      "        condition is True, the `out` array will be set to the ufunc result.\n",
      "        Elsewhere, the `out` array will retain its original value.\n",
      "        Note that if an uninitialized `out` array is created via the default\n",
      "        ``out=None``, locations within it where the condition is False will\n",
      "        remain uninitialized.\n",
      "    **kwargs\n",
      "        For other keyword-only arguments, see the\n",
      "        :ref:`ufunc docs <ufuncs.kwargs>`.\n",
      "    \n",
      "    Returns\n",
      "    -------\n",
      "    add : ndarray or scalar\n",
      "        The sum of `x1` and `x2`, element-wise.\n",
      "        This is a scalar if both `x1` and `x2` are scalars.\n",
      "    \n",
      "    Notes\n",
      "    -----\n",
      "    Equivalent to `x1` + `x2` in terms of array broadcasting.\n",
      "    \n",
      "    Examples\n",
      "    --------\n",
      "    >>> np.add(1.0, 4.0)\n",
      "    5.0\n",
      "    >>> x1 = np.arange(9.0).reshape((3, 3))\n",
      "    >>> x2 = np.arange(3.0)\n",
      "    >>> np.add(x1, x2)\n",
      "    array([[  0.,   2.,   4.],\n",
      "           [  3.,   5.,   7.],\n",
      "           [  6.,   8.,  10.]])\n",
      "    \n",
      "    The ``+`` operator can be used as a shorthand for ``np.add`` on ndarrays.\n",
      "    \n",
      "    >>> x1 = np.arange(9.0).reshape((3, 3))\n",
      "    >>> x2 = np.arange(3.0)\n",
      "    >>> x1 + x2\n",
      "    array([[ 0.,  2.,  4.],\n",
      "           [ 3.,  5.,  7.],\n",
      "           [ 6.,  8., 10.]])\n",
      "\n"
     ]
    }
   ],
   "source": [
    "help(np.add)"
   ]
  },
  {
   "cell_type": "code",
   "execution_count": 19,
   "id": "3d665833",
   "metadata": {},
   "outputs": [
    {
     "name": "stdout",
     "output_type": "stream",
     "text": [
      "add(x1, x2, /, out=None, *, where=True, casting='same_kind', order='K', dtype=None, subok=True[, signature, extobj])\n",
      "\n",
      "Add arguments element-wise.\n",
      "\n",
      "Parameters\n",
      "----------\n",
      "x1, x2 : array_like\n",
      "    The arrays to be added.\n",
      "    If ``x1.shape != x2.shape``, they must be broadcastable to a common\n",
      "    shape (which becomes the shape of the output).\n",
      "out : ndarray, None, or tuple of ndarray and None, optional\n",
      "    A location into which the result is stored. If provided, it must have\n",
      "    a shape that the inputs broadcast to. If not provided or None,\n",
      "    a freshly-allocated array is returned. A tuple (possible only as a\n",
      "    keyword argument) must have length equal to the number of outputs.\n",
      "where : array_like, optional\n",
      "    This condition is broadcast over the input. At locations where the\n",
      "    condition is True, the `out` array will be set to the ufunc result.\n",
      "    Elsewhere, the `out` array will retain its original value.\n",
      "    Note that if an uninitialized `out` array is created via the default\n",
      "    ``out=None``, locations within it where the condition is False will\n",
      "    remain uninitialized.\n",
      "**kwargs\n",
      "    For other keyword-only arguments, see the\n",
      "    :ref:`ufunc docs <ufuncs.kwargs>`.\n",
      "\n",
      "Returns\n",
      "-------\n",
      "add : ndarray or scalar\n",
      "    The sum of `x1` and `x2`, element-wise.\n",
      "    This is a scalar if both `x1` and `x2` are scalars.\n",
      "\n",
      "Notes\n",
      "-----\n",
      "Equivalent to `x1` + `x2` in terms of array broadcasting.\n",
      "\n",
      "Examples\n",
      "--------\n",
      ">>> np.add(1.0, 4.0)\n",
      "5.0\n",
      ">>> x1 = np.arange(9.0).reshape((3, 3))\n",
      ">>> x2 = np.arange(3.0)\n",
      ">>> np.add(x1, x2)\n",
      "array([[  0.,   2.,   4.],\n",
      "       [  3.,   5.,   7.],\n",
      "       [  6.,   8.,  10.]])\n",
      "\n",
      "The ``+`` operator can be used as a shorthand for ``np.add`` on ndarrays.\n",
      "\n",
      ">>> x1 = np.arange(9.0).reshape((3, 3))\n",
      ">>> x2 = np.arange(3.0)\n",
      ">>> x1 + x2\n",
      "array([[ 0.,  2.,  4.],\n",
      "       [ 3.,  5.,  7.],\n",
      "       [ 6.,  8., 10.]])\n"
     ]
    }
   ],
   "source": [
    "np.info(np.add)"
   ]
  },
  {
   "cell_type": "code",
   "execution_count": 16,
   "id": "b3b178a1",
   "metadata": {},
   "outputs": [
    {
     "name": "stdout",
     "output_type": "stream",
     "text": [
      "%run `python -c \"import numpy; numpy.info(numpy.add)\"`\n"
     ]
    }
   ],
   "source": [
    "answer(5)"
   ]
  },
  {
   "cell_type": "markdown",
   "id": "bf6679c3",
   "metadata": {},
   "source": [
    "#### 6. Create a null vector of size 10 but the fifth value which is 1 (★☆☆)"
   ]
  },
  {
   "cell_type": "code",
   "execution_count": 24,
   "id": "f4cd59b6",
   "metadata": {},
   "outputs": [
    {
     "data": {
      "text/plain": [
       "array([0., 0., 0., 0., 1., 0., 0., 0., 0., 0.])"
      ]
     },
     "execution_count": 24,
     "metadata": {},
     "output_type": "execute_result"
    }
   ],
   "source": [
    "a = np.zeros(10)\n",
    "a[4] = 1\n",
    "a"
   ]
  },
  {
   "cell_type": "code",
   "execution_count": 23,
   "id": "8b1fcf7f",
   "metadata": {},
   "outputs": [
    {
     "name": "stdout",
     "output_type": "stream",
     "text": [
      "Z = np.zeros(10)\n",
      "Z[4] = 1\n",
      "print(Z)\n"
     ]
    }
   ],
   "source": [
    "answer(6)"
   ]
  },
  {
   "cell_type": "markdown",
   "id": "022451fb",
   "metadata": {},
   "source": [
    "#### 7. Create a vector with values ranging from 10 to 49 (★☆☆)"
   ]
  },
  {
   "cell_type": "code",
   "execution_count": 25,
   "id": "22c2f0a8",
   "metadata": {},
   "outputs": [
    {
     "data": {
      "text/plain": [
       "array([10, 11, 12, 13, 14, 15, 16, 17, 18, 19, 20, 21, 22, 23, 24, 25, 26,\n",
       "       27, 28, 29, 30, 31, 32, 33, 34, 35, 36, 37, 38, 39, 40, 41, 42, 43,\n",
       "       44, 45, 46, 47, 48, 49])"
      ]
     },
     "execution_count": 25,
     "metadata": {},
     "output_type": "execute_result"
    }
   ],
   "source": [
    "np.array(range(10, 50))"
   ]
  },
  {
   "cell_type": "code",
   "execution_count": 27,
   "id": "a7721360",
   "metadata": {},
   "outputs": [
    {
     "data": {
      "text/plain": [
       "array([10, 11, 12, 13, 14, 15, 16, 17, 18, 19, 20, 21, 22, 23, 24, 25, 26,\n",
       "       27, 28, 29, 30, 31, 32, 33, 34, 35, 36, 37, 38, 39, 40, 41, 42, 43,\n",
       "       44, 45, 46, 47, 48, 49])"
      ]
     },
     "execution_count": 27,
     "metadata": {},
     "output_type": "execute_result"
    }
   ],
   "source": [
    "np.arange(10, 50)"
   ]
  },
  {
   "cell_type": "code",
   "execution_count": 26,
   "id": "cd1c6397",
   "metadata": {},
   "outputs": [
    {
     "name": "stdout",
     "output_type": "stream",
     "text": [
      "Z = np.arange(10,50)\n",
      "print(Z)\n"
     ]
    }
   ],
   "source": [
    "answer(7)"
   ]
  },
  {
   "cell_type": "markdown",
   "id": "aca8f6ee",
   "metadata": {},
   "source": [
    "#### 8. Reverse a vector (first element becomes last) (★☆☆)"
   ]
  },
  {
   "cell_type": "code",
   "execution_count": 37,
   "id": "15f37616",
   "metadata": {},
   "outputs": [],
   "source": [
    "a = np.arange(10)\n",
    "a = a[::-1]"
   ]
  },
  {
   "cell_type": "code",
   "execution_count": 38,
   "id": "cdd0804a",
   "metadata": {},
   "outputs": [
    {
     "data": {
      "text/plain": [
       "array([9, 8, 7, 6, 5, 4, 3, 2, 1, 0])"
      ]
     },
     "execution_count": 38,
     "metadata": {},
     "output_type": "execute_result"
    }
   ],
   "source": [
    "a"
   ]
  },
  {
   "cell_type": "code",
   "execution_count": 40,
   "id": "7074faac",
   "metadata": {},
   "outputs": [
    {
     "name": "stdout",
     "output_type": "stream",
     "text": [
      "Z = np.arange(50)\n",
      "Z = Z[::-1]\n",
      "print(Z)\n"
     ]
    }
   ],
   "source": [
    "answer(8)"
   ]
  },
  {
   "cell_type": "markdown",
   "id": "97bfddd4",
   "metadata": {},
   "source": [
    "#### 9. Create a 3x3 matrix with values ranging from 0 to 8 (★☆☆)"
   ]
  },
  {
   "cell_type": "code",
   "execution_count": 39,
   "id": "8b93d83c",
   "metadata": {},
   "outputs": [
    {
     "data": {
      "text/plain": [
       "array([[0, 1, 2],\n",
       "       [3, 4, 5],\n",
       "       [6, 7, 8]])"
      ]
     },
     "execution_count": 39,
     "metadata": {},
     "output_type": "execute_result"
    }
   ],
   "source": [
    "np.arange(9).reshape(3, 3)"
   ]
  },
  {
   "cell_type": "code",
   "execution_count": 41,
   "id": "9e539c43",
   "metadata": {},
   "outputs": [
    {
     "name": "stdout",
     "output_type": "stream",
     "text": [
      "Z = np.arange(9).reshape(3, 3)\n",
      "print(Z)\n"
     ]
    }
   ],
   "source": [
    "answer(9)"
   ]
  },
  {
   "cell_type": "markdown",
   "id": "a073dad0",
   "metadata": {},
   "source": [
    "#### 10. Find indices of non-zero elements from [1,2,0,0,4,0] (★☆☆)"
   ]
  },
  {
   "cell_type": "code",
   "execution_count": 47,
   "id": "c21fb91c",
   "metadata": {},
   "outputs": [
    {
     "data": {
      "text/plain": [
       "(array([0, 1, 4], dtype=int64),)"
      ]
     },
     "execution_count": 47,
     "metadata": {},
     "output_type": "execute_result"
    }
   ],
   "source": [
    "a = np.array([1, 2, 0, 0, 4, 0])\n",
    "np.where(a != 0)"
   ]
  },
  {
   "cell_type": "code",
   "execution_count": 48,
   "id": "752a1727",
   "metadata": {},
   "outputs": [
    {
     "data": {
      "text/plain": [
       "(array([0, 1, 4], dtype=int64),)"
      ]
     },
     "execution_count": 48,
     "metadata": {},
     "output_type": "execute_result"
    }
   ],
   "source": [
    "np.nonzero([1, 2, 0, 0, 4, 0])"
   ]
  },
  {
   "cell_type": "code",
   "execution_count": 44,
   "id": "8dd779b6",
   "metadata": {},
   "outputs": [
    {
     "name": "stdout",
     "output_type": "stream",
     "text": [
      "nz = np.nonzero([1,2,0,0,4,0])\n",
      "print(nz)\n"
     ]
    }
   ],
   "source": [
    "answer(10)"
   ]
  },
  {
   "cell_type": "markdown",
   "id": "82b9a7a0",
   "metadata": {},
   "source": [
    "#### 11. Create a 3x3 identity matrix (★☆☆)"
   ]
  },
  {
   "cell_type": "code",
   "execution_count": 52,
   "id": "7ce1325a",
   "metadata": {},
   "outputs": [
    {
     "data": {
      "text/plain": [
       "array([[1., 0., 0.],\n",
       "       [0., 1., 0.],\n",
       "       [0., 0., 1.]])"
      ]
     },
     "execution_count": 52,
     "metadata": {},
     "output_type": "execute_result"
    }
   ],
   "source": [
    "np.identity(3)"
   ]
  },
  {
   "cell_type": "code",
   "execution_count": 50,
   "id": "014dc73b",
   "metadata": {},
   "outputs": [
    {
     "name": "stdout",
     "output_type": "stream",
     "text": [
      "Z = np.eye(3)\n",
      "print(Z)\n"
     ]
    }
   ],
   "source": [
    "answer(11)"
   ]
  },
  {
   "cell_type": "markdown",
   "id": "0e6364d3",
   "metadata": {},
   "source": [
    "#### 12. Create a 3x3x3 array with random values (★☆☆)"
   ]
  },
  {
   "cell_type": "code",
   "execution_count": 57,
   "id": "8139c1c8",
   "metadata": {},
   "outputs": [
    {
     "data": {
      "text/plain": [
       "array([[[0.99540214, 0.1562633 , 0.24560946],\n",
       "        [0.27856617, 0.35486353, 0.8544821 ],\n",
       "        [0.43373897, 0.23667745, 0.84548741]],\n",
       "\n",
       "       [[0.5599986 , 0.0552404 , 0.23574084],\n",
       "        [0.93900486, 0.19302547, 0.94553629],\n",
       "        [0.90135359, 0.25662078, 0.41050953]],\n",
       "\n",
       "       [[0.41102096, 0.92990624, 0.77316712],\n",
       "        [0.80882422, 0.49681016, 0.2610807 ],\n",
       "        [0.9742944 , 0.7363107 , 0.37949268]]])"
      ]
     },
     "execution_count": 57,
     "metadata": {},
     "output_type": "execute_result"
    }
   ],
   "source": [
    "np.random.random(3*3*3).reshape(3, 3, 3)"
   ]
  },
  {
   "cell_type": "code",
   "execution_count": 59,
   "id": "16b52eab",
   "metadata": {},
   "outputs": [
    {
     "data": {
      "text/plain": [
       "array([[[0.12865969, 0.61340293, 0.5118489 ],\n",
       "        [0.71084715, 0.36510757, 0.01478701],\n",
       "        [0.26036472, 0.57394331, 0.74652237]],\n",
       "\n",
       "       [[0.24471776, 0.62066854, 0.29906301],\n",
       "        [0.69177749, 0.47636469, 0.09516431],\n",
       "        [0.6951534 , 0.86269386, 0.89072551]],\n",
       "\n",
       "       [[0.96437491, 0.9874765 , 0.35901918],\n",
       "        [0.67727571, 0.28991915, 0.1958101 ],\n",
       "        [0.14474225, 0.74278629, 0.77803745]]])"
      ]
     },
     "execution_count": 59,
     "metadata": {},
     "output_type": "execute_result"
    }
   ],
   "source": [
    "np.random.random((3, 3, 3))"
   ]
  },
  {
   "cell_type": "code",
   "execution_count": 56,
   "id": "cedc1d73",
   "metadata": {},
   "outputs": [
    {
     "name": "stdout",
     "output_type": "stream",
     "text": [
      "Z = np.random.random((3,3,3))\n",
      "print(Z)\n"
     ]
    }
   ],
   "source": [
    "answer(12)"
   ]
  },
  {
   "cell_type": "markdown",
   "id": "49ef36a6",
   "metadata": {},
   "source": [
    "#### 13. Create a 10x10 array with random values and find the minimum and maximum values (★☆☆)"
   ]
  },
  {
   "cell_type": "code",
   "execution_count": 62,
   "id": "5b4c73c7",
   "metadata": {},
   "outputs": [
    {
     "data": {
      "text/plain": [
       "(0.012353836226003168, 0.9890691965026176)"
      ]
     },
     "execution_count": 62,
     "metadata": {},
     "output_type": "execute_result"
    }
   ],
   "source": [
    "a = np.random.random((10, 10))\n",
    "a.min(), a.max()"
   ]
  },
  {
   "cell_type": "code",
   "execution_count": 71,
   "id": "4a5913ea",
   "metadata": {},
   "outputs": [
    {
     "name": "stdout",
     "output_type": "stream",
     "text": [
      "Z = np.random.random((10,10))\n",
      "Zmin, Zmax = Z.min(), Z.max()\n",
      "print(Zmin, Zmax)\n"
     ]
    }
   ],
   "source": [
    "answer(13)"
   ]
  },
  {
   "cell_type": "markdown",
   "id": "625eb243",
   "metadata": {},
   "source": [
    "#### 14. Create a random vector of size 30 and find the mean value (★☆☆)"
   ]
  },
  {
   "cell_type": "code",
   "execution_count": 70,
   "id": "ba7b8300",
   "metadata": {},
   "outputs": [
    {
     "data": {
      "text/plain": [
       "0.4908022014630769"
      ]
     },
     "execution_count": 70,
     "metadata": {},
     "output_type": "execute_result"
    }
   ],
   "source": [
    "a = np.random.random(30)\n",
    "a.mean()"
   ]
  },
  {
   "cell_type": "code",
   "execution_count": 72,
   "id": "3fb3a4c6",
   "metadata": {},
   "outputs": [
    {
     "name": "stdout",
     "output_type": "stream",
     "text": [
      "Z = np.random.random(30)\n",
      "m = Z.mean()\n",
      "print(m)\n"
     ]
    }
   ],
   "source": [
    "answer(14)"
   ]
  },
  {
   "cell_type": "markdown",
   "id": "19540b2f",
   "metadata": {},
   "source": [
    "#### 15. Create a 2d array with 1 on the border and 0 inside (★☆☆)"
   ]
  },
  {
   "cell_type": "code",
   "execution_count": 76,
   "id": "19e78d2c",
   "metadata": {},
   "outputs": [
    {
     "data": {
      "text/plain": [
       "array([[1., 1., 1., 1., 1.],\n",
       "       [1., 0., 0., 0., 1.],\n",
       "       [1., 0., 0., 0., 1.],\n",
       "       [1., 0., 0., 0., 1.],\n",
       "       [1., 1., 1., 1., 1.]])"
      ]
     },
     "execution_count": 76,
     "metadata": {},
     "output_type": "execute_result"
    }
   ],
   "source": [
    "a = np.ones((5, 5))\n",
    "a[1:-1, 1:-1] = 0\n",
    "a"
   ]
  },
  {
   "cell_type": "code",
   "execution_count": 73,
   "id": "23a64018",
   "metadata": {},
   "outputs": [
    {
     "name": "stdout",
     "output_type": "stream",
     "text": [
      "hint: array[1:-1, 1:-1]\n"
     ]
    }
   ],
   "source": [
    "hint(15)"
   ]
  },
  {
   "cell_type": "code",
   "execution_count": 77,
   "id": "de01a44e",
   "metadata": {},
   "outputs": [
    {
     "name": "stdout",
     "output_type": "stream",
     "text": [
      "Z = np.ones((10,10))\n",
      "Z[1:-1,1:-1] = 0\n",
      "print(Z)\n"
     ]
    }
   ],
   "source": [
    "answer(15)"
   ]
  },
  {
   "cell_type": "markdown",
   "id": "3f0fe171",
   "metadata": {},
   "source": [
    "#### 16. How to add a border (filled with 0's) around an existing array? (★☆☆)"
   ]
  },
  {
   "cell_type": "code",
   "execution_count": 80,
   "id": "662a99b4",
   "metadata": {},
   "outputs": [
    {
     "data": {
      "text/plain": [
       "array([[0., 0., 0., 0., 0., 0., 0.],\n",
       "       [0., 1., 1., 1., 1., 1., 0.],\n",
       "       [0., 1., 0., 0., 0., 1., 0.],\n",
       "       [0., 1., 0., 0., 0., 1., 0.],\n",
       "       [0., 1., 0., 0., 0., 1., 0.],\n",
       "       [0., 1., 1., 1., 1., 1., 0.],\n",
       "       [0., 0., 0., 0., 0., 0., 0.]])"
      ]
     },
     "execution_count": 80,
     "metadata": {},
     "output_type": "execute_result"
    }
   ],
   "source": [
    "b = np.zeros((a.shape[0] + 2, a.shape[1] + 2))\n",
    "b[1:-1, 1:-1] = a\n",
    "b"
   ]
  },
  {
   "cell_type": "code",
   "execution_count": 84,
   "id": "bb0c1188",
   "metadata": {},
   "outputs": [
    {
     "data": {
      "text/plain": [
       "array([[0., 0., 0., 0., 0., 0., 0.],\n",
       "       [0., 1., 1., 1., 1., 1., 0.],\n",
       "       [0., 1., 0., 0., 0., 1., 0.],\n",
       "       [0., 1., 0., 0., 0., 1., 0.],\n",
       "       [0., 1., 0., 0., 0., 1., 0.],\n",
       "       [0., 1., 1., 1., 1., 1., 0.],\n",
       "       [0., 0., 0., 0., 0., 0., 0.]])"
      ]
     },
     "execution_count": 84,
     "metadata": {},
     "output_type": "execute_result"
    }
   ],
   "source": [
    "np.pad(a, pad_width=1, constant_values=0)"
   ]
  },
  {
   "cell_type": "code",
   "execution_count": 81,
   "id": "fdf72348",
   "metadata": {},
   "outputs": [
    {
     "name": "stdout",
     "output_type": "stream",
     "text": [
      "Z = np.ones((5,5))\n",
      "Z = np.pad(Z, pad_width=1, mode='constant', constant_values=0)\n",
      "print(Z)\n",
      "\n",
      "# Using fancy indexing\n",
      "Z[:, [0, -1]] = 0\n",
      "Z[[0, -1], :] = 0\n",
      "print(Z)\n"
     ]
    }
   ],
   "source": [
    "answer(16)"
   ]
  },
  {
   "cell_type": "markdown",
   "id": "0464c4af",
   "metadata": {},
   "source": [
    "#### 17. What is the result of the following expression? (★☆☆)\n",
    "```python\n",
    "0 * np.nan\n",
    "np.nan == np.nan\n",
    "np.inf > np.nan\n",
    "np.nan - np.nan\n",
    "np.nan in set([np.nan])\n",
    "0.3 == 3 * 0.1\n",
    "```"
   ]
  },
  {
   "cell_type": "code",
   "execution_count": 85,
   "id": "18926a29",
   "metadata": {},
   "outputs": [
    {
     "data": {
      "text/plain": [
       "(nan, False, False, nan, True, False)"
      ]
     },
     "execution_count": 85,
     "metadata": {},
     "output_type": "execute_result"
    }
   ],
   "source": [
    "np.nan, False, False, np.nan, True, False"
   ]
  },
  {
   "cell_type": "code",
   "execution_count": 86,
   "id": "eff160b1",
   "metadata": {},
   "outputs": [
    {
     "name": "stdout",
     "output_type": "stream",
     "text": [
      "print(0 * np.nan)\n",
      "print(np.nan == np.nan)\n",
      "print(np.inf > np.nan)\n",
      "print(np.nan - np.nan)\n",
      "print(np.nan in set([np.nan]))\n",
      "print(0.3 == 3 * 0.1)\n"
     ]
    }
   ],
   "source": [
    "answer(17)"
   ]
  },
  {
   "cell_type": "code",
   "execution_count": 87,
   "id": "1556e6f6",
   "metadata": {},
   "outputs": [
    {
     "name": "stdout",
     "output_type": "stream",
     "text": [
      "nan\n",
      "False\n",
      "False\n",
      "nan\n",
      "True\n",
      "False\n"
     ]
    }
   ],
   "source": [
    "print(0 * np.nan)\n",
    "print(np.nan == np.nan)\n",
    "print(np.inf > np.nan)\n",
    "print(np.nan - np.nan)\n",
    "print(np.nan in set([np.nan]))\n",
    "print(0.3 == 3 * 0.1)"
   ]
  },
  {
   "cell_type": "markdown",
   "id": "afb90e8b",
   "metadata": {},
   "source": [
    "#### 18. Create a 5x5 matrix with values 1,2,3,4 just below the diagonal (★☆☆)"
   ]
  },
  {
   "cell_type": "code",
   "execution_count": 94,
   "id": "8a988102",
   "metadata": {},
   "outputs": [
    {
     "data": {
      "text/plain": [
       "array([[1., 0., 0., 0., 0.],\n",
       "       [0., 2., 0., 0., 0.],\n",
       "       [0., 0., 3., 0., 0.],\n",
       "       [0., 0., 0., 4., 0.],\n",
       "       [0., 0., 0., 0., 5.]])"
      ]
     },
     "execution_count": 94,
     "metadata": {},
     "output_type": "execute_result"
    }
   ],
   "source": [
    "a = np.zeros((5, 5))\n",
    "np.fill_diagonal(a, np.arange(1, 6))\n",
    "a"
   ]
  },
  {
   "cell_type": "code",
   "execution_count": 99,
   "id": "ff64a00b",
   "metadata": {},
   "outputs": [
    {
     "name": "stdout",
     "output_type": "stream",
     "text": [
      "Z = np.diag(1+np.arange(4),k=-1)\n",
      "print(Z)\n"
     ]
    }
   ],
   "source": [
    "answer(18)"
   ]
  },
  {
   "cell_type": "markdown",
   "id": "ca611f9e",
   "metadata": {},
   "source": [
    "#### 19. Create a 8x8 matrix and fill it with a checkerboard pattern (★☆☆)"
   ]
  },
  {
   "cell_type": "code",
   "execution_count": 102,
   "id": "24049fc7",
   "metadata": {},
   "outputs": [
    {
     "data": {
      "text/plain": [
       "array([[1., 0., 1., 0., 1., 0., 1., 0.],\n",
       "       [0., 1., 0., 1., 0., 1., 0., 1.],\n",
       "       [1., 0., 1., 0., 1., 0., 1., 0.],\n",
       "       [0., 1., 0., 1., 0., 1., 0., 1.],\n",
       "       [1., 0., 1., 0., 1., 0., 1., 0.],\n",
       "       [0., 1., 0., 1., 0., 1., 0., 1.],\n",
       "       [1., 0., 1., 0., 1., 0., 1., 0.],\n",
       "       [0., 1., 0., 1., 0., 1., 0., 1.]])"
      ]
     },
     "execution_count": 102,
     "metadata": {},
     "output_type": "execute_result"
    }
   ],
   "source": [
    "a = np.zeros((8, 8))\n",
    "a[1::2, 1::2] = 1\n",
    "a[::2, ::2] = 1\n",
    "a"
   ]
  },
  {
   "cell_type": "code",
   "execution_count": 97,
   "id": "fc4bbdcc",
   "metadata": {},
   "outputs": [
    {
     "name": "stdout",
     "output_type": "stream",
     "text": [
      "hint: array[::2]\n"
     ]
    }
   ],
   "source": [
    "hint(19)"
   ]
  },
  {
   "cell_type": "code",
   "execution_count": 105,
   "id": "fa88128d",
   "metadata": {},
   "outputs": [
    {
     "name": "stdout",
     "output_type": "stream",
     "text": [
      "Z = np.zeros((8,8),dtype=int)\n",
      "Z[1::2,::2] = 1\n",
      "Z[::2,1::2] = 1\n",
      "print(Z)\n"
     ]
    }
   ],
   "source": [
    "answer(19)"
   ]
  },
  {
   "cell_type": "markdown",
   "id": "9b77f7af",
   "metadata": {},
   "source": [
    "#### 20. Consider a (6,7,8) shape array, what is the index (x,y,z) of the 100th element? (★☆☆)"
   ]
  },
  {
   "cell_type": "code",
   "execution_count": 106,
   "id": "402efd68",
   "metadata": {},
   "outputs": [
    {
     "data": {
      "text/plain": [
       "(array([1], dtype=int64), array([5], dtype=int64), array([3], dtype=int64))"
      ]
     },
     "execution_count": 106,
     "metadata": {},
     "output_type": "execute_result"
    }
   ],
   "source": [
    "a = np.arange(1, 6*7*8 + 1).reshape(6, 7, 8)\n",
    "np.where(a == 100)"
   ]
  },
  {
   "cell_type": "code",
   "execution_count": 107,
   "id": "43ae955f",
   "metadata": {},
   "outputs": [
    {
     "name": "stdout",
     "output_type": "stream",
     "text": [
      "print(np.unravel_index(99,(6,7,8)))\n"
     ]
    }
   ],
   "source": [
    "answer(20)"
   ]
  },
  {
   "cell_type": "code",
   "execution_count": 108,
   "id": "fb194a79",
   "metadata": {},
   "outputs": [
    {
     "name": "stdout",
     "output_type": "stream",
     "text": [
      "(1, 5, 3)\n"
     ]
    }
   ],
   "source": [
    "print(np.unravel_index(99,(6,7,8)))"
   ]
  },
  {
   "cell_type": "markdown",
   "id": "07e399b8",
   "metadata": {},
   "source": [
    "#### 21. Create a checkerboard 8x8 matrix using the tile function (★☆☆)"
   ]
  },
  {
   "cell_type": "code",
   "execution_count": 115,
   "id": "22eed7b9",
   "metadata": {},
   "outputs": [
    {
     "data": {
      "text/plain": [
       "array([[0, 1, 0, 1, 0, 1, 0, 1],\n",
       "       [1, 0, 1, 0, 1, 0, 1, 0]])"
      ]
     },
     "execution_count": 115,
     "metadata": {},
     "output_type": "execute_result"
    }
   ],
   "source": [
    "np.append(np.tile([0, 1], 4), np.tile([1, 0], 4)).reshape(-1, 8)"
   ]
  },
  {
   "cell_type": "code",
   "execution_count": 126,
   "id": "867964a9",
   "metadata": {},
   "outputs": [
    {
     "data": {
      "text/plain": [
       "array([[0, 1, 0, 1, 0, 1, 0, 1],\n",
       "       [0, 1, 0, 1, 0, 1, 0, 1],\n",
       "       [0, 1, 0, 1, 0, 1, 0, 1],\n",
       "       [0, 1, 0, 1, 0, 1, 0, 1],\n",
       "       [1, 0, 1, 0, 1, 0, 1, 0],\n",
       "       [1, 0, 1, 0, 1, 0, 1, 0],\n",
       "       [1, 0, 1, 0, 1, 0, 1, 0],\n",
       "       [1, 0, 1, 0, 1, 0, 1, 0]])"
      ]
     },
     "execution_count": 126,
     "metadata": {},
     "output_type": "execute_result"
    }
   ],
   "source": [
    "np.tile((np.append(np.tile([0, 1], 4), np.tile([1, 0], 4)).reshape(8, -1)),(1, 4)).reshape(8, -1)"
   ]
  },
  {
   "cell_type": "code",
   "execution_count": 109,
   "id": "4e22a852",
   "metadata": {},
   "outputs": [
    {
     "name": "stdout",
     "output_type": "stream",
     "text": [
      "hint: np.tile\n"
     ]
    }
   ],
   "source": [
    "hint(21)"
   ]
  },
  {
   "cell_type": "code",
   "execution_count": null,
   "id": "21c93188",
   "metadata": {},
   "outputs": [],
   "source": [
    "np.tile( np.array([[0,1],[1,0]]), (4,4))"
   ]
  },
  {
   "cell_type": "code",
   "execution_count": 119,
   "id": "1e6b0460",
   "metadata": {},
   "outputs": [
    {
     "name": "stdout",
     "output_type": "stream",
     "text": [
      "Z = np.tile( np.array([[0,1],[1,0]]), (4,4))\n",
      "print(Z)\n"
     ]
    }
   ],
   "source": [
    "answer(21)"
   ]
  },
  {
   "cell_type": "code",
   "execution_count": 128,
   "id": "7bc02ec0",
   "metadata": {},
   "outputs": [
    {
     "data": {
      "text/plain": [
       "array([[0, 1, 0, 1, 0, 1, 0, 1],\n",
       "       [1, 0, 1, 0, 1, 0, 1, 0],\n",
       "       [0, 1, 0, 1, 0, 1, 0, 1],\n",
       "       [1, 0, 1, 0, 1, 0, 1, 0],\n",
       "       [0, 1, 0, 1, 0, 1, 0, 1],\n",
       "       [1, 0, 1, 0, 1, 0, 1, 0],\n",
       "       [0, 1, 0, 1, 0, 1, 0, 1],\n",
       "       [1, 0, 1, 0, 1, 0, 1, 0]])"
      ]
     },
     "execution_count": 128,
     "metadata": {},
     "output_type": "execute_result"
    }
   ],
   "source": [
    "np.tile(np.array([[0, 1], [1, 0]]), (4, 4))"
   ]
  },
  {
   "cell_type": "markdown",
   "id": "bc92d88a",
   "metadata": {},
   "source": [
    "#### 22. Normalize a 5x5 random matrix (★☆☆)"
   ]
  },
  {
   "cell_type": "code",
   "execution_count": 133,
   "id": "a3709496",
   "metadata": {},
   "outputs": [
    {
     "data": {
      "text/plain": [
       "array([[-1.51792826,  0.36707993,  0.91145717, -0.07884625, -0.59399554],\n",
       "       [ 0.57132801, -0.25112445, -0.76514096, -0.41667914, -1.23071907],\n",
       "       [ 1.28484895,  1.62390506, -0.81576579, -0.73297437,  0.56880222],\n",
       "       [ 1.05710139,  0.55042771,  1.33298638,  0.5245561 ,  1.70181529],\n",
       "       [-1.36343472, -1.21071215, -0.92487896, -1.33765676,  0.74554821]])"
      ]
     },
     "execution_count": 133,
     "metadata": {},
     "output_type": "execute_result"
    }
   ],
   "source": [
    "a = np.random.random((5, 5))\n",
    "(a - a.mean()) / a.std()"
   ]
  },
  {
   "cell_type": "code",
   "execution_count": 134,
   "id": "2b962f15",
   "metadata": {},
   "outputs": [
    {
     "name": "stdout",
     "output_type": "stream",
     "text": [
      "Z = np.random.random((5,5))\n",
      "Z = (Z - np.mean (Z)) / (np.std (Z))\n",
      "print(Z)\n"
     ]
    }
   ],
   "source": [
    "answer(22)"
   ]
  },
  {
   "cell_type": "markdown",
   "id": "9e2fd8ce",
   "metadata": {},
   "source": [
    "#### 23. Create a custom dtype that describes a color as four unsigned bytes (RGBA) (★☆☆)"
   ]
  },
  {
   "cell_type": "code",
   "execution_count": 135,
   "id": "5881b2b5",
   "metadata": {},
   "outputs": [
    {
     "name": "stdout",
     "output_type": "stream",
     "text": [
      "color = np.dtype([(\"r\", np.ubyte),\n",
      "                  (\"g\", np.ubyte),\n",
      "                  (\"b\", np.ubyte),\n",
      "                  (\"a\", np.ubyte)])\n"
     ]
    }
   ],
   "source": [
    "answer(23)"
   ]
  },
  {
   "cell_type": "code",
   "execution_count": 136,
   "id": "0e2f6535",
   "metadata": {},
   "outputs": [],
   "source": [
    "color = np.dtype([(\"r\", np.ubyte),\n",
    "                  (\"g\", np.ubyte),\n",
    "                  (\"b\", np.ubyte),\n",
    "                  (\"a\", np.ubyte)])"
   ]
  },
  {
   "cell_type": "code",
   "execution_count": 137,
   "id": "c3467a90",
   "metadata": {},
   "outputs": [
    {
     "data": {
      "text/plain": [
       "dtype([('r', 'u1'), ('g', 'u1'), ('b', 'u1'), ('a', 'u1')])"
      ]
     },
     "execution_count": 137,
     "metadata": {},
     "output_type": "execute_result"
    }
   ],
   "source": [
    "color"
   ]
  },
  {
   "cell_type": "markdown",
   "id": "d6904ab9",
   "metadata": {},
   "source": [
    "#### 24. Multiply a 5x3 matrix by a 3x2 matrix (real matrix product) (★☆☆)"
   ]
  },
  {
   "cell_type": "code",
   "execution_count": 141,
   "id": "cb3b6528",
   "metadata": {},
   "outputs": [
    {
     "data": {
      "text/plain": [
       "array([[ 10,  13],\n",
       "       [ 28,  40],\n",
       "       [ 46,  67],\n",
       "       [ 64,  94],\n",
       "       [ 82, 121]])"
      ]
     },
     "execution_count": 141,
     "metadata": {},
     "output_type": "execute_result"
    }
   ],
   "source": [
    "np.arange(5*3).reshape(5, 3) @ np.arange(3*2).reshape(3, 2)"
   ]
  },
  {
   "cell_type": "code",
   "execution_count": 142,
   "id": "accb85a8",
   "metadata": {},
   "outputs": [
    {
     "data": {
      "text/plain": [
       "array([[ 10,  13],\n",
       "       [ 28,  40],\n",
       "       [ 46,  67],\n",
       "       [ 64,  94],\n",
       "       [ 82, 121]])"
      ]
     },
     "execution_count": 142,
     "metadata": {},
     "output_type": "execute_result"
    }
   ],
   "source": [
    "np.dot(np.arange(5*3).reshape(5, 3), np.arange(3*2).reshape(3, 2))"
   ]
  },
  {
   "cell_type": "code",
   "execution_count": 140,
   "id": "273da341",
   "metadata": {},
   "outputs": [
    {
     "name": "stdout",
     "output_type": "stream",
     "text": [
      "Z = np.dot(np.ones((5,3)), np.ones((3,2)))\n",
      "print(Z)\n",
      "\n",
      "# Alternative solution, in Python 3.5 and above\n",
      "Z = np.ones((5,3)) @ np.ones((3,2))\n",
      "print(Z)\n"
     ]
    }
   ],
   "source": [
    "answer(24)"
   ]
  },
  {
   "cell_type": "markdown",
   "id": "c57116dd",
   "metadata": {},
   "source": [
    "#### 25. Given a 1D array, negate all elements which are between 3 and 8, in place. (★☆☆)"
   ]
  },
  {
   "cell_type": "code",
   "execution_count": 153,
   "id": "4fbf1b1e",
   "metadata": {},
   "outputs": [],
   "source": [
    "a = np.arange(10)\n",
    "a[(a < 8) & (a > 3)] *= -1"
   ]
  },
  {
   "cell_type": "code",
   "execution_count": 154,
   "id": "ae8136b8",
   "metadata": {},
   "outputs": [
    {
     "name": "stdout",
     "output_type": "stream",
     "text": [
      "hint: >, <\n"
     ]
    }
   ],
   "source": [
    "hint(25)"
   ]
  },
  {
   "cell_type": "code",
   "execution_count": 155,
   "id": "6aa84cbd",
   "metadata": {},
   "outputs": [
    {
     "name": "stdout",
     "output_type": "stream",
     "text": [
      "# Author: Evgeni Burovski\n",
      "\n",
      "Z = np.arange(11)\n",
      "Z[(3 < Z) & (Z < 8)] *= -1\n",
      "print(Z)\n"
     ]
    }
   ],
   "source": [
    "answer(25)"
   ]
  },
  {
   "cell_type": "markdown",
   "id": "52707d61",
   "metadata": {},
   "source": [
    "#### 26. What is the output of the following script? (★☆☆)\n",
    "```python\n",
    "# Author: Jake VanderPlas\n",
    "\n",
    "print(sum(range(5),-1))\n",
    "from numpy import *\n",
    "print(sum(range(5),-1))\n",
    "```"
   ]
  },
  {
   "cell_type": "code",
   "execution_count": 3,
   "id": "18a238e6",
   "metadata": {},
   "outputs": [
    {
     "name": "stdout",
     "output_type": "stream",
     "text": [
      "9\n",
      "10\n"
     ]
    }
   ],
   "source": [
    "print(sum(range(5),-1))\n",
    "from numpy import *\n",
    "print(sum(range(5),-1))"
   ]
  },
  {
   "cell_type": "markdown",
   "id": "5ab377fd",
   "metadata": {},
   "source": [
    "#### 27. Consider an integer vector Z, which of these expressions are legal? (★☆☆)\n",
    "```python\n",
    "Z**Z\n",
    "2 << Z >> 2\n",
    "Z <- Z\n",
    "1j*Z\n",
    "Z/1/1\n",
    "Z<Z>Z\n",
    "```"
   ]
  },
  {
   "cell_type": "code",
   "execution_count": 16,
   "id": "36cc66a9",
   "metadata": {},
   "outputs": [],
   "source": [
    "a = np.arange(5)"
   ]
  },
  {
   "cell_type": "code",
   "execution_count": 19,
   "id": "814b7219",
   "metadata": {},
   "outputs": [
    {
     "data": {
      "text/plain": [
       "array([0., 1., 2., 3., 4.])"
      ]
     },
     "execution_count": 19,
     "metadata": {},
     "output_type": "execute_result"
    }
   ],
   "source": [
    "a**a\n",
    "2 << a >> 2\n",
    "a <- a\n",
    "1j * a\n",
    "a/1/1"
   ]
  },
  {
   "cell_type": "code",
   "execution_count": 20,
   "id": "fdcd8c45",
   "metadata": {},
   "outputs": [
    {
     "name": "stdout",
     "output_type": "stream",
     "text": [
      "Z**Z\n",
      "2 << Z >> 2\n",
      "Z <- Z\n",
      "1j*Z\n",
      "Z/1/1\n",
      "Z<Z>Z\n"
     ]
    }
   ],
   "source": [
    "answer(27)"
   ]
  },
  {
   "cell_type": "markdown",
   "id": "654f223f",
   "metadata": {},
   "source": [
    "#### 28. What are the result of the following expressions? (★☆☆)\n",
    "```python\n",
    "np.array(0) / np.array(0)\n",
    "np.array(0) // np.array(0)\n",
    "np.array([np.nan]).astype(int).astype(float)\n",
    "```"
   ]
  },
  {
   "cell_type": "code",
   "execution_count": 25,
   "id": "6d9d3c21",
   "metadata": {},
   "outputs": [
    {
     "name": "stderr",
     "output_type": "stream",
     "text": [
      "C:\\Users\\Николай\\AppData\\Local\\Temp\\ipykernel_17040\\873513115.py:1: RuntimeWarning: invalid value encountered in divide\n",
      "  np.array(0) / np.array(0)\n"
     ]
    },
    {
     "data": {
      "text/plain": [
       "nan"
      ]
     },
     "execution_count": 25,
     "metadata": {},
     "output_type": "execute_result"
    }
   ],
   "source": [
    "np.array(0) / np.array(0)"
   ]
  },
  {
   "cell_type": "code",
   "execution_count": 26,
   "id": "abb91368",
   "metadata": {},
   "outputs": [
    {
     "name": "stderr",
     "output_type": "stream",
     "text": [
      "C:\\Users\\Николай\\AppData\\Local\\Temp\\ipykernel_17040\\2018018105.py:1: RuntimeWarning: divide by zero encountered in floor_divide\n",
      "  np.array(0) // np.array(0)\n"
     ]
    },
    {
     "data": {
      "text/plain": [
       "0"
      ]
     },
     "execution_count": 26,
     "metadata": {},
     "output_type": "execute_result"
    }
   ],
   "source": [
    "np.array(0) // np.array(0)"
   ]
  },
  {
   "cell_type": "code",
   "execution_count": 28,
   "id": "f74e39ae",
   "metadata": {},
   "outputs": [
    {
     "data": {
      "text/plain": [
       "array([-2.14748365e+09])"
      ]
     },
     "execution_count": 28,
     "metadata": {},
     "output_type": "execute_result"
    }
   ],
   "source": [
    "np.array([np.nan]).astype(int).astype(float)"
   ]
  },
  {
   "cell_type": "markdown",
   "id": "a7e00adf",
   "metadata": {},
   "source": [
    "#### 29. How to round away from zero a float array ? (★☆☆)"
   ]
  },
  {
   "cell_type": "code",
   "execution_count": 43,
   "id": "72eeb00e",
   "metadata": {},
   "outputs": [
    {
     "data": {
      "text/plain": [
       "array([-5., -5., -4., -3., -3., -3., -3., -2., -2., -2., -1., -1., -1.,\n",
       "       -1., -1., -1.,  1.,  1.,  1.,  2.,  2.,  2.,  2.,  2.,  3.,  3.,\n",
       "        3.,  4.,  4.,  4.])"
      ]
     },
     "execution_count": 43,
     "metadata": {},
     "output_type": "execute_result"
    }
   ],
   "source": [
    "a = np.sort(np.random.uniform(-5, 5, 30))\n",
    "np.where(a > 0, np.ceil(a), np.floor(a))"
   ]
  },
  {
   "cell_type": "code",
   "execution_count": 29,
   "id": "6ee5777d",
   "metadata": {},
   "outputs": [
    {
     "name": "stdout",
     "output_type": "stream",
     "text": [
      "# Author: Charles R Harris\n",
      "\n",
      "Z = np.random.uniform(-10,+10,10)\n",
      "print(np.copysign(np.ceil(np.abs(Z)), Z))\n",
      "\n",
      "# More readable but less efficient\n",
      "print(np.where(Z>0, np.ceil(Z), np.floor(Z)))\n"
     ]
    }
   ],
   "source": [
    "answer(29)"
   ]
  },
  {
   "cell_type": "markdown",
   "id": "56be1f05",
   "metadata": {},
   "source": [
    "#### 30. How to find common values between two arrays? (★☆☆)"
   ]
  },
  {
   "cell_type": "code",
   "execution_count": 45,
   "id": "62eeedc0",
   "metadata": {},
   "outputs": [
    {
     "data": {
      "text/plain": [
       "array([-1,  0,  1,  2])"
      ]
     },
     "execution_count": 45,
     "metadata": {},
     "output_type": "execute_result"
    }
   ],
   "source": [
    "a = np.arange(-5, 3)\n",
    "b = np.arange(-1, 6)\n",
    "np.intersect1d(a, b)"
   ]
  },
  {
   "cell_type": "code",
   "execution_count": 44,
   "id": "ffe44b8f",
   "metadata": {},
   "outputs": [
    {
     "name": "stdout",
     "output_type": "stream",
     "text": [
      "hint: np.intersect1d\n"
     ]
    }
   ],
   "source": [
    "hint(30)"
   ]
  },
  {
   "cell_type": "code",
   "execution_count": 46,
   "id": "6a3cf631",
   "metadata": {},
   "outputs": [
    {
     "name": "stdout",
     "output_type": "stream",
     "text": [
      "Z1 = np.random.randint(0,10,10)\n",
      "Z2 = np.random.randint(0,10,10)\n",
      "print(np.intersect1d(Z1,Z2))\n"
     ]
    }
   ],
   "source": [
    "answer(30)"
   ]
  },
  {
   "cell_type": "markdown",
   "id": "83567c5c",
   "metadata": {},
   "source": [
    "#### 31. How to ignore all numpy warnings (not recommended)? (★☆☆)"
   ]
  },
  {
   "cell_type": "code",
   "execution_count": 50,
   "id": "4f127546",
   "metadata": {},
   "outputs": [],
   "source": [
    "with np.errstate(all=\"ignore\"):\n",
    "    np.arange(3) / 0"
   ]
  },
  {
   "cell_type": "code",
   "execution_count": 49,
   "id": "fa02b423",
   "metadata": {},
   "outputs": [
    {
     "name": "stdout",
     "output_type": "stream",
     "text": [
      "hint: np.seterr, np.errstate\n"
     ]
    }
   ],
   "source": [
    "hint(31)"
   ]
  },
  {
   "cell_type": "code",
   "execution_count": 51,
   "id": "687e2222",
   "metadata": {},
   "outputs": [
    {
     "name": "stdout",
     "output_type": "stream",
     "text": [
      "# Suicide mode on\n",
      "defaults = np.seterr(all=\"ignore\")\n",
      "Z = np.ones(1) / 0\n",
      "\n",
      "# Back to sanity\n",
      "_ = np.seterr(**defaults)\n",
      "\n",
      "# Equivalently with a context manager\n",
      "with np.errstate(all=\"ignore\"):\n",
      "    np.arange(3) / 0\n"
     ]
    }
   ],
   "source": [
    "answer(31)"
   ]
  },
  {
   "attachments": {},
   "cell_type": "markdown",
   "id": "0a7449b6",
   "metadata": {},
   "source": [
    "#### 32. Is the following expressions true? (★☆☆)\n",
    "```python\n",
    "np.sqrt(-1) == np.emath.sqrt(-1)\n",
    "```"
   ]
  },
  {
   "cell_type": "code",
   "execution_count": 53,
   "id": "69eb4456",
   "metadata": {},
   "outputs": [
    {
     "name": "stderr",
     "output_type": "stream",
     "text": [
      "C:\\Users\\Николай\\AppData\\Local\\Temp\\ipykernel_17040\\178168484.py:1: RuntimeWarning: invalid value encountered in sqrt\n",
      "  np.sqrt(-1), np.emath.sqrt(-1)\n"
     ]
    },
    {
     "data": {
      "text/plain": [
       "(nan, 1j)"
      ]
     },
     "execution_count": 53,
     "metadata": {},
     "output_type": "execute_result"
    }
   ],
   "source": [
    "np.sqrt(-1), np.emath.sqrt(-1)"
   ]
  },
  {
   "cell_type": "markdown",
   "id": "9d434219",
   "metadata": {},
   "source": [
    "#### 33. How to get the dates of yesterday, today and tomorrow? (★☆☆)"
   ]
  },
  {
   "cell_type": "code",
   "execution_count": 59,
   "id": "0b192943",
   "metadata": {},
   "outputs": [
    {
     "data": {
      "text/plain": [
       "(datetime.date(2023, 3, 31),\n",
       " datetime.date(2023, 4, 1),\n",
       " datetime.date(2023, 4, 2))"
      ]
     },
     "execution_count": 59,
     "metadata": {},
     "output_type": "execute_result"
    }
   ],
   "source": [
    "from datetime import date, timedelta\n",
    "\n",
    "\n",
    "date.today() - timedelta(days=1), date.today(), date.today() + timedelta(days=1)"
   ]
  },
  {
   "cell_type": "code",
   "execution_count": 61,
   "id": "46a99deb",
   "metadata": {},
   "outputs": [
    {
     "data": {
      "text/plain": [
       "(numpy.datetime64('2023-03-31'),\n",
       " numpy.datetime64('2023-04-01'),\n",
       " numpy.datetime64('2023-04-02'))"
      ]
     },
     "execution_count": 61,
     "metadata": {},
     "output_type": "execute_result"
    }
   ],
   "source": [
    "np.datetime64('today') - np.timedelta64(1), np.datetime64('today'), np.datetime64('today') + np.timedelta64(1)"
   ]
  },
  {
   "cell_type": "code",
   "execution_count": 60,
   "id": "b05b24e2",
   "metadata": {},
   "outputs": [
    {
     "name": "stdout",
     "output_type": "stream",
     "text": [
      "yesterday = np.datetime64('today') - np.timedelta64(1)\n",
      "today     = np.datetime64('today')\n",
      "tomorrow  = np.datetime64('today') + np.timedelta64(1)\n"
     ]
    }
   ],
   "source": [
    "answer(33)"
   ]
  },
  {
   "cell_type": "markdown",
   "id": "b0e44339",
   "metadata": {},
   "source": [
    "#### 34. How to get all the dates corresponding to the month of July 2016? (★★☆)"
   ]
  },
  {
   "cell_type": "code",
   "execution_count": 62,
   "id": "8bf7daa6",
   "metadata": {},
   "outputs": [
    {
     "name": "stdout",
     "output_type": "stream",
     "text": [
      "hint: np.arange(dtype=datetime64['D'])\n"
     ]
    }
   ],
   "source": [
    "hint(34)"
   ]
  },
  {
   "cell_type": "code",
   "execution_count": 76,
   "id": "ace529f3",
   "metadata": {},
   "outputs": [
    {
     "data": {
      "text/plain": [
       "array(['2016-07-01', '2016-07-02', '2016-07-03', '2016-07-04',\n",
       "       '2016-07-05', '2016-07-06', '2016-07-07', '2016-07-08',\n",
       "       '2016-07-09', '2016-07-10', '2016-07-11', '2016-07-12',\n",
       "       '2016-07-13', '2016-07-14', '2016-07-15', '2016-07-16',\n",
       "       '2016-07-17', '2016-07-18', '2016-07-19', '2016-07-20',\n",
       "       '2016-07-21', '2016-07-22', '2016-07-23', '2016-07-24',\n",
       "       '2016-07-25', '2016-07-26', '2016-07-27', '2016-07-28',\n",
       "       '2016-07-29', '2016-07-30', '2016-07-31'], dtype='datetime64[D]')"
      ]
     },
     "execution_count": 76,
     "metadata": {},
     "output_type": "execute_result"
    }
   ],
   "source": [
    "np.arange(\"2016-07\", \"2016-08\", dtype=\"datetime64[D]\")"
   ]
  },
  {
   "cell_type": "code",
   "execution_count": 68,
   "id": "987ce1f1",
   "metadata": {},
   "outputs": [
    {
     "name": "stdout",
     "output_type": "stream",
     "text": [
      "Z = np.arange('2016-07', '2016-08', dtype='datetime64[D]')\n",
      "print(Z)\n"
     ]
    }
   ],
   "source": [
    "answer(34)"
   ]
  },
  {
   "cell_type": "markdown",
   "id": "f9b3c24a",
   "metadata": {},
   "source": [
    "#### 35. How to compute ((A+B)*(-A/2)) in place (without copy)? (★★☆)"
   ]
  },
  {
   "cell_type": "code",
   "execution_count": 93,
   "id": "962e0f85",
   "metadata": {},
   "outputs": [
    {
     "data": {
      "text/plain": [
       "array([  0.,  -4., -10., -18., -28., -40.])"
      ]
     },
     "execution_count": 93,
     "metadata": {},
     "output_type": "execute_result"
    }
   ],
   "source": [
    "a = np.arange(6)\n",
    "b = np.arange(6, 12)\n",
    "((a+b) * (-a/2))"
   ]
  },
  {
   "cell_type": "code",
   "execution_count": 109,
   "id": "6d414355",
   "metadata": {},
   "outputs": [
    {
     "data": {
      "text/plain": [
       "array([ -0.,  -4., -10., -18., -28., -40.])"
      ]
     },
     "execution_count": 109,
     "metadata": {},
     "output_type": "execute_result"
    }
   ],
   "source": [
    "a = np.arange(6).astype(float)\n",
    "b = np.arange(6, 12).astype(float)\n",
    "np.add(a, b, out=b)\n",
    "np.divide(a, 2, out=a)\n",
    "np.negative(a, out=a)\n",
    "np.multiply(a, b, out=a)"
   ]
  },
  {
   "cell_type": "code",
   "execution_count": 77,
   "id": "40da18c9",
   "metadata": {},
   "outputs": [
    {
     "name": "stdout",
     "output_type": "stream",
     "text": [
      "A = np.ones(3)*1\n",
      "B = np.ones(3)*2\n",
      "np.add(A,B,out=B)\n",
      "np.divide(A,2,out=A)\n",
      "np.negative(A,out=A)\n",
      "np.multiply(A,B,out=A)\n"
     ]
    }
   ],
   "source": [
    "answer(35)"
   ]
  },
  {
   "cell_type": "markdown",
   "id": "cbb64ee9",
   "metadata": {},
   "source": [
    "#### 36. Extract the integer part of a random array of positive numbers using 4 different methods (★★☆)"
   ]
  },
  {
   "cell_type": "code",
   "execution_count": 110,
   "id": "d1feefa4",
   "metadata": {},
   "outputs": [],
   "source": [
    "a = np.sort(np.random.uniform(1, 5, 5))"
   ]
  },
  {
   "cell_type": "code",
   "execution_count": 108,
   "id": "f83748bd",
   "metadata": {},
   "outputs": [
    {
     "name": "stdout",
     "output_type": "stream",
     "text": [
      "hint: %, np.floor, astype, np.trunc\n"
     ]
    }
   ],
   "source": [
    "hint(36)"
   ]
  },
  {
   "cell_type": "code",
   "execution_count": 112,
   "id": "3fbd0f94",
   "metadata": {},
   "outputs": [
    {
     "data": {
      "text/plain": [
       "(array([1., 1., 1., 2., 2.]),\n",
       " array([1., 1., 1., 2., 2.]),\n",
       " array([1., 1., 1., 2., 2.]),\n",
       " array([1., 1., 1., 2., 2.]),\n",
       " array([1., 1., 1., 2., 2.]),\n",
       " array([1., 1., 1., 2., 2.]))"
      ]
     },
     "execution_count": 112,
     "metadata": {},
     "output_type": "execute_result"
    }
   ],
   "source": [
    "a - a%1, a//1, np.floor(a), np.trunc(a), a.astype(int).astype(float), np.around(a - 0.5)"
   ]
  },
  {
   "cell_type": "code",
   "execution_count": 106,
   "id": "925ed66d",
   "metadata": {},
   "outputs": [
    {
     "name": "stdout",
     "output_type": "stream",
     "text": [
      "Z = np.random.uniform(0,10,10)\n",
      "\n",
      "print(Z - Z%1)\n",
      "print(Z // 1)\n",
      "print(np.floor(Z))\n",
      "print(Z.astype(int))\n",
      "print(np.trunc(Z))\n"
     ]
    }
   ],
   "source": [
    "answer(36)"
   ]
  },
  {
   "cell_type": "markdown",
   "id": "8418e1e4",
   "metadata": {},
   "source": [
    "#### 37. Create a 5x5 matrix with row values ranging from 0 to 4 (★★☆)"
   ]
  },
  {
   "cell_type": "code",
   "execution_count": 115,
   "id": "563532b2",
   "metadata": {},
   "outputs": [
    {
     "data": {
      "text/plain": [
       "array([[0, 1, 2, 3, 4],\n",
       "       [0, 1, 2, 3, 4],\n",
       "       [0, 1, 2, 3, 4],\n",
       "       [0, 1, 2, 3, 4],\n",
       "       [0, 1, 2, 3, 4]])"
      ]
     },
     "execution_count": 115,
     "metadata": {},
     "output_type": "execute_result"
    }
   ],
   "source": [
    "np.tile(np.arange(5), 5).reshape(5, 5)"
   ]
  },
  {
   "cell_type": "code",
   "execution_count": 113,
   "id": "08e726e4",
   "metadata": {},
   "outputs": [
    {
     "name": "stdout",
     "output_type": "stream",
     "text": [
      "Z = np.zeros((5,5))\n",
      "Z += np.arange(5)\n",
      "print(Z)\n",
      "\n",
      "# without broadcasting\n",
      "Z = np.tile(np.arange(0, 5), (5,1))\n",
      "print(Z)\n"
     ]
    }
   ],
   "source": [
    "answer(37)"
   ]
  },
  {
   "cell_type": "markdown",
   "id": "a8420e2c",
   "metadata": {},
   "source": [
    "#### 38. Consider a generator function that generates 10 integers and use it to build an array (★☆☆)"
   ]
  },
  {
   "cell_type": "code",
   "execution_count": 8,
   "id": "c58e77ad",
   "metadata": {},
   "outputs": [
    {
     "data": {
      "text/plain": [
       "array([0, 1, 2, 3, 4, 5, 6, 7, 8, 9])"
      ]
     },
     "execution_count": 8,
     "metadata": {},
     "output_type": "execute_result"
    }
   ],
   "source": [
    "np.array([i for i in range(10)])"
   ]
  },
  {
   "cell_type": "code",
   "execution_count": 6,
   "id": "cf5c2db1",
   "metadata": {},
   "outputs": [
    {
     "name": "stdout",
     "output_type": "stream",
     "text": [
      "def generate():\n",
      "    for x in range(10):\n",
      "        yield x\n",
      "Z = np.fromiter(generate(),dtype=float,count=-1)\n",
      "print(Z)\n"
     ]
    }
   ],
   "source": [
    "answer(38)"
   ]
  },
  {
   "cell_type": "code",
   "execution_count": 7,
   "id": "5466e99a",
   "metadata": {},
   "outputs": [
    {
     "name": "stdout",
     "output_type": "stream",
     "text": [
      "[0. 1. 2. 3. 4. 5. 6. 7. 8. 9.]\n"
     ]
    }
   ],
   "source": [
    "def generate():\n",
    "    for x in range(10):\n",
    "        yield x\n",
    "Z = np.fromiter(generate(),dtype=float,count=-1)\n",
    "print(Z)"
   ]
  },
  {
   "cell_type": "markdown",
   "id": "deab3e77",
   "metadata": {},
   "source": [
    "#### 39. Create a vector of size 10 with values ranging from 0 to 1, both excluded (★★☆)"
   ]
  },
  {
   "cell_type": "code",
   "execution_count": 9,
   "id": "2c5fafc8",
   "metadata": {},
   "outputs": [
    {
     "data": {
      "text/plain": [
       "array([0.1, 0.2, 0.3, 0.4, 0.5, 0.6, 0.7, 0.8, 0.9])"
      ]
     },
     "execution_count": 9,
     "metadata": {},
     "output_type": "execute_result"
    }
   ],
   "source": [
    "np.linspace(0, 1, 11)[1:-1]\n"
   ]
  },
  {
   "cell_type": "code",
   "execution_count": 8,
   "id": "742279ea",
   "metadata": {},
   "outputs": [
    {
     "name": "stdout",
     "output_type": "stream",
     "text": [
      "Z = np.linspace(0,1,11,endpoint=False)[1:]\n",
      "print(Z)\n"
     ]
    }
   ],
   "source": [
    "answer(39)"
   ]
  },
  {
   "cell_type": "markdown",
   "id": "5bb5de9c",
   "metadata": {},
   "source": [
    "#### 40. Create a random vector of size 10 and sort it (★★☆)"
   ]
  },
  {
   "cell_type": "code",
   "execution_count": 12,
   "id": "b9916965",
   "metadata": {},
   "outputs": [
    {
     "data": {
      "text/plain": [
       "array([0.15192972, 0.16957523, 0.25980417, 0.35957271, 0.38011132,\n",
       "       0.55680546, 0.61909683, 0.7617053 , 0.89130922, 0.9236736 ])"
      ]
     },
     "execution_count": 12,
     "metadata": {},
     "output_type": "execute_result"
    }
   ],
   "source": [
    "np.sort(np.random.random(10))"
   ]
  },
  {
   "cell_type": "code",
   "execution_count": 11,
   "id": "33ef8299",
   "metadata": {},
   "outputs": [
    {
     "name": "stdout",
     "output_type": "stream",
     "text": [
      "Z = np.random.random(10)\n",
      "Z.sort()\n",
      "print(Z)\n"
     ]
    }
   ],
   "source": [
    "answer(40)"
   ]
  },
  {
   "cell_type": "markdown",
   "id": "ebc8ad64",
   "metadata": {},
   "source": [
    "#### 41. How to sum a small array faster than np.sum? (★★☆)"
   ]
  },
  {
   "cell_type": "code",
   "execution_count": 13,
   "id": "e7ac9923",
   "metadata": {},
   "outputs": [
    {
     "name": "stdout",
     "output_type": "stream",
     "text": [
      "hint: np.add.reduce\n"
     ]
    }
   ],
   "source": [
    "hint(41)"
   ]
  },
  {
   "cell_type": "code",
   "execution_count": 18,
   "metadata": {},
   "outputs": [
    {
     "data": {
      "text/plain": [
       "6"
      ]
     },
     "execution_count": 18,
     "metadata": {},
     "output_type": "execute_result"
    }
   ],
   "source": [
    "a = np.array([1, 2, 3])\n",
    "np.add.reduce(a)"
   ]
  },
  {
   "cell_type": "code",
   "execution_count": 17,
   "id": "f3b52983",
   "metadata": {},
   "outputs": [
    {
     "name": "stdout",
     "output_type": "stream",
     "text": [
      "# Author: Evgeni Burovski\n",
      "\n",
      "Z = np.arange(10)\n",
      "np.add.reduce(Z)\n"
     ]
    }
   ],
   "source": [
    "answer(41)"
   ]
  },
  {
   "cell_type": "markdown",
   "id": "4abfb753",
   "metadata": {},
   "source": [
    "#### 42. Consider two random array A and B, check if they are equal (★★☆)"
   ]
  },
  {
   "cell_type": "code",
   "execution_count": 23,
   "id": "d265b5f6",
   "metadata": {},
   "outputs": [
    {
     "data": {
      "text/plain": [
       "(True, True)"
      ]
     },
     "execution_count": 23,
     "metadata": {},
     "output_type": "execute_result"
    }
   ],
   "source": [
    "a = np.array([1, 2, 3])\n",
    "b = np.array([1, 2, 3])\n",
    "all(a == b), np.array_equal(a, b)"
   ]
  },
  {
   "cell_type": "code",
   "execution_count": 22,
   "id": "540f3435",
   "metadata": {},
   "outputs": [
    {
     "name": "stdout",
     "output_type": "stream",
     "text": [
      "A = np.random.randint(0,2,5)\n",
      "B = np.random.randint(0,2,5)\n",
      "\n",
      "# Assuming identical shape of the arrays and a tolerance for the comparison of values\n",
      "equal = np.allclose(A,B)\n",
      "print(equal)\n",
      "\n",
      "# Checking both the shape and the element values, no tolerance (values have to be exactly equal)\n",
      "equal = np.array_equal(A,B)\n",
      "print(equal)\n"
     ]
    }
   ],
   "source": [
    "answer(42)"
   ]
  },
  {
   "cell_type": "markdown",
   "id": "c8fad2be",
   "metadata": {},
   "source": [
    "#### 43. Make an array immutable (read-only) (★★☆)"
   ]
  },
  {
   "cell_type": "code",
   "execution_count": 27,
   "id": "cadce095",
   "metadata": {},
   "outputs": [
    {
     "ename": "ValueError",
     "evalue": "assignment destination is read-only",
     "output_type": "error",
     "traceback": [
      "\u001b[1;31m---------------------------------------------------------------------------\u001b[0m",
      "\u001b[1;31mValueError\u001b[0m                                Traceback (most recent call last)",
      "\u001b[1;32md:\\Works\\numpy-100\\numpy-100\\100_Numpy_exercises.ipynb Ячейка 158\u001b[0m in \u001b[0;36m3\n\u001b[0;32m      <a href='vscode-notebook-cell:/d%3A/Works/numpy-100/numpy-100/100_Numpy_exercises.ipynb#Y305sZmlsZQ%3D%3D?line=0'>1</a>\u001b[0m a \u001b[39m=\u001b[39m np\u001b[39m.\u001b[39marray([\u001b[39m1\u001b[39m, \u001b[39m2\u001b[39m, \u001b[39m3\u001b[39m])\n\u001b[0;32m      <a href='vscode-notebook-cell:/d%3A/Works/numpy-100/numpy-100/100_Numpy_exercises.ipynb#Y305sZmlsZQ%3D%3D?line=1'>2</a>\u001b[0m a\u001b[39m.\u001b[39mflags\u001b[39m.\u001b[39mwriteable \u001b[39m=\u001b[39m \u001b[39mFalse\u001b[39;00m\n\u001b[1;32m----> <a href='vscode-notebook-cell:/d%3A/Works/numpy-100/numpy-100/100_Numpy_exercises.ipynb#Y305sZmlsZQ%3D%3D?line=2'>3</a>\u001b[0m a[\u001b[39m-\u001b[39;49m\u001b[39m1\u001b[39;49m] \u001b[39m=\u001b[39m \u001b[39m4\u001b[39m\n",
      "\u001b[1;31mValueError\u001b[0m: assignment destination is read-only"
     ]
    }
   ],
   "source": [
    "a = np.array([1, 2, 3])\n",
    "a.flags.writeable = False\n",
    "a[-1] = 4"
   ]
  },
  {
   "cell_type": "code",
   "execution_count": 26,
   "id": "8a2e0028",
   "metadata": {},
   "outputs": [
    {
     "name": "stdout",
     "output_type": "stream",
     "text": [
      "Z = np.zeros(10)\n",
      "Z.flags.writeable = False\n",
      "Z[0] = 1\n"
     ]
    }
   ],
   "source": [
    "answer(43)"
   ]
  },
  {
   "cell_type": "markdown",
   "id": "91b25fb1",
   "metadata": {},
   "source": [
    "#### 44. Consider a random 10x2 matrix representing cartesian coordinates, convert them to polar coordinates (★★☆)"
   ]
  },
  {
   "cell_type": "code",
   "execution_count": 37,
   "id": "3f5fb344",
   "metadata": {},
   "outputs": [
    {
     "data": {
      "text/plain": [
       "array([[0.59122761, 1.03454785, 0.18982398, 0.35537045, 0.95213911,\n",
       "        0.72338029, 1.02451554, 0.31173029, 0.65572025, 0.21065121],\n",
       "       [1.43016176, 0.37749012, 0.04841887, 0.54594911, 1.53018489,\n",
       "        1.38270616, 0.28866399, 0.63779727, 1.20710077, 0.32199759]])"
      ]
     },
     "execution_count": 37,
     "metadata": {},
     "output_type": "execute_result"
    }
   ],
   "source": [
    "a = np.random.random((2, 10))\n",
    "ray = np.sqrt(a[0]**2 + a[1]**2)\n",
    "azimut = np.arctan(a[1] / a[0])\n",
    "np.vstack((ray, azimut))"
   ]
  },
  {
   "cell_type": "code",
   "execution_count": 38,
   "id": "b0528fb5",
   "metadata": {},
   "outputs": [
    {
     "name": "stdout",
     "output_type": "stream",
     "text": [
      "Z = np.random.random((10,2))\n",
      "X,Y = Z[:,0], Z[:,1]\n",
      "R = np.sqrt(X**2+Y**2)\n",
      "T = np.arctan2(Y,X)\n",
      "print(R)\n",
      "print(T)\n"
     ]
    }
   ],
   "source": [
    "answer(44)"
   ]
  },
  {
   "cell_type": "markdown",
   "id": "7e4116bc",
   "metadata": {},
   "source": [
    "#### 45. Create random vector of size 10 and replace the maximum value by 0 (★★☆)"
   ]
  },
  {
   "cell_type": "code",
   "execution_count": 42,
   "id": "b4e895f6",
   "metadata": {},
   "outputs": [
    {
     "data": {
      "text/plain": [
       "array([0.23210438, 0.33992607, 0.22691182, 0.63526255, 0.04301807,\n",
       "       0.        , 0.05207289, 0.22237743, 0.0249083 , 0.61129609])"
      ]
     },
     "execution_count": 42,
     "metadata": {},
     "output_type": "execute_result"
    }
   ],
   "source": [
    "a = np.random.random(10)\n",
    "a[np.where(a == np.max(a))] = 0\n",
    "a"
   ]
  },
  {
   "cell_type": "markdown",
   "id": "f5b68c55",
   "metadata": {},
   "source": [
    "#### 46. Create a structured array with `x` and `y` coordinates covering the [0,1]x[0,1] area (★★☆)"
   ]
  },
  {
   "cell_type": "code",
   "execution_count": 43,
   "id": "32fd3691",
   "metadata": {},
   "outputs": [
    {
     "name": "stdout",
     "output_type": "stream",
     "text": [
      "hint: np.meshgrid\n"
     ]
    }
   ],
   "source": [
    "hint(46)"
   ]
  },
  {
   "cell_type": "code",
   "execution_count": 46,
   "id": "921cce1f",
   "metadata": {},
   "outputs": [
    {
     "data": {
      "text/plain": [
       "[array([[0.  , 0.25, 0.5 , 0.75, 1.  ],\n",
       "        [0.  , 0.25, 0.5 , 0.75, 1.  ],\n",
       "        [0.  , 0.25, 0.5 , 0.75, 1.  ],\n",
       "        [0.  , 0.25, 0.5 , 0.75, 1.  ],\n",
       "        [0.  , 0.25, 0.5 , 0.75, 1.  ]]),\n",
       " array([[0.  , 0.  , 0.  , 0.  , 0.  ],\n",
       "        [0.25, 0.25, 0.25, 0.25, 0.25],\n",
       "        [0.5 , 0.5 , 0.5 , 0.5 , 0.5 ],\n",
       "        [0.75, 0.75, 0.75, 0.75, 0.75],\n",
       "        [1.  , 1.  , 1.  , 1.  , 1.  ]])]"
      ]
     },
     "execution_count": 46,
     "metadata": {},
     "output_type": "execute_result"
    }
   ],
   "source": [
    "a = 5\n",
    "np.meshgrid(np.linspace(0, 1, a), np.linspace(0, 1, a))"
   ]
  },
  {
   "cell_type": "code",
   "execution_count": 44,
   "id": "f34fe576",
   "metadata": {},
   "outputs": [
    {
     "name": "stdout",
     "output_type": "stream",
     "text": [
      "Z = np.zeros((5,5), [('x',float),('y',float)])\n",
      "Z['x'], Z['y'] = np.meshgrid(np.linspace(0,1,5),\n",
      "                             np.linspace(0,1,5))\n",
      "print(Z)\n"
     ]
    }
   ],
   "source": [
    "answer(46)"
   ]
  },
  {
   "cell_type": "code",
   "execution_count": 48,
   "id": "39c4337a",
   "metadata": {},
   "outputs": [
    {
     "name": "stdout",
     "output_type": "stream",
     "text": [
      "[[(0.  , 0.  ) (0.25, 0.  ) (0.5 , 0.  ) (0.75, 0.  ) (1.  , 0.  )]\n",
      " [(0.  , 0.25) (0.25, 0.25) (0.5 , 0.25) (0.75, 0.25) (1.  , 0.25)]\n",
      " [(0.  , 0.5 ) (0.25, 0.5 ) (0.5 , 0.5 ) (0.75, 0.5 ) (1.  , 0.5 )]\n",
      " [(0.  , 0.75) (0.25, 0.75) (0.5 , 0.75) (0.75, 0.75) (1.  , 0.75)]\n",
      " [(0.  , 1.  ) (0.25, 1.  ) (0.5 , 1.  ) (0.75, 1.  ) (1.  , 1.  )]]\n"
     ]
    }
   ],
   "source": [
    "Z = np.zeros((5,5), [('x',float),('y',float)])\n",
    "Z['x'], Z['y'] = np.meshgrid(np.linspace(0,1,5),\n",
    "                             np.linspace(0,1,5))\n",
    "print(Z)"
   ]
  },
  {
   "cell_type": "markdown",
   "id": "378bc4e9",
   "metadata": {},
   "source": [
    "#### 47. Given two arrays, X and Y, construct the Cauchy matrix C (Cij =1/(xi - yj)) (★★☆)"
   ]
  },
  {
   "cell_type": "code",
   "execution_count": 76,
   "id": "43282e51",
   "metadata": {},
   "outputs": [
    {
     "data": {
      "text/plain": [
       "(44.38416931216933,\n",
       " array([[-2.        , -0.66666667, -0.4       , -0.28571429],\n",
       "        [ 2.        , -2.        , -0.66666667, -0.4       ],\n",
       "        [ 0.66666667,  2.        , -2.        , -0.66666667],\n",
       "        [ 0.4       ,  0.66666667,  2.        , -2.        ]]))"
      ]
     },
     "execution_count": 76,
     "metadata": {},
     "output_type": "execute_result"
    }
   ],
   "source": [
    "x = np.arange(4)\n",
    "y = x + 0.5\n",
    "a = 1 / (np.sum(np.meshgrid(x-y[::-1], x-y[::-1]), axis=0) / 2)[:, ::-1]\n",
    "np.linalg.det(a), a"
   ]
  },
  {
   "cell_type": "code",
   "execution_count": 73,
   "id": "c96ee030",
   "metadata": {},
   "outputs": [
    {
     "data": {
      "text/plain": [
       "(44.38416931216933,\n",
       " array([[-2.        , -0.66666667, -0.4       , -0.28571429],\n",
       "        [ 2.        , -2.        , -0.66666667, -0.4       ],\n",
       "        [ 0.66666667,  2.        , -2.        , -0.66666667],\n",
       "        [ 0.4       ,  0.66666667,  2.        , -2.        ]]))"
      ]
     },
     "execution_count": 73,
     "metadata": {},
     "output_type": "execute_result"
    }
   ],
   "source": [
    "X = np.arange(4)\n",
    "Y = X + 0.5\n",
    "C = 1.0 / np.subtract.outer(X, Y)\n",
    "np.linalg.det(C), C"
   ]
  },
  {
   "cell_type": "code",
   "execution_count": 60,
   "id": "fa886afa",
   "metadata": {},
   "outputs": [
    {
     "name": "stdout",
     "output_type": "stream",
     "text": [
      "# Author: Evgeni Burovski\n",
      "\n",
      "X = np.arange(8)\n",
      "Y = X + 0.5\n",
      "C = 1.0 / np.subtract.outer(X, Y)\n",
      "print(np.linalg.det(C))\n"
     ]
    }
   ],
   "source": [
    "answer(47)"
   ]
  },
  {
   "cell_type": "markdown",
   "id": "7f45d2f9",
   "metadata": {},
   "source": [
    "#### 48. Print the minimum and maximum representable value for each numpy scalar type (★★☆)"
   ]
  },
  {
   "cell_type": "code",
   "execution_count": 80,
   "id": "17e53db9",
   "metadata": {},
   "outputs": [
    {
     "name": "stdout",
     "output_type": "stream",
     "text": [
      "-128\n",
      "127\n",
      "-2147483648\n",
      "2147483647\n",
      "-9223372036854775808\n",
      "9223372036854775807\n",
      "-3.4028235e+38\n",
      "3.4028235e+38\n",
      "1.1920929e-07\n",
      "-1.7976931348623157e+308\n",
      "1.7976931348623157e+308\n",
      "2.220446049250313e-16\n"
     ]
    }
   ],
   "source": [
    "for dtype in [np.int8, np.int32, np.int64]:\n",
    "   print(np.iinfo(dtype).min)\n",
    "   print(np.iinfo(dtype).max)\n",
    "for dtype in [np.float32, np.float64]:\n",
    "   print(np.finfo(dtype).min)\n",
    "   print(np.finfo(dtype).max)\n",
    "   print(np.finfo(dtype).eps)"
   ]
  },
  {
   "cell_type": "code",
   "execution_count": 77,
   "id": "a7f37b9e",
   "metadata": {},
   "outputs": [
    {
     "name": "stdout",
     "output_type": "stream",
     "text": [
      "for dtype in [np.int8, np.int32, np.int64]:\n",
      "   print(np.iinfo(dtype).min)\n",
      "   print(np.iinfo(dtype).max)\n",
      "for dtype in [np.float32, np.float64]:\n",
      "   print(np.finfo(dtype).min)\n",
      "   print(np.finfo(dtype).max)\n",
      "   print(np.finfo(dtype).eps)\n"
     ]
    }
   ],
   "source": [
    "answer(48)"
   ]
  },
  {
   "cell_type": "markdown",
   "id": "1d269f07",
   "metadata": {},
   "source": [
    "#### 49. How to print all the values of an array? (★★☆)"
   ]
  },
  {
   "cell_type": "code",
   "execution_count": 81,
   "id": "fde90b07",
   "metadata": {},
   "outputs": [
    {
     "name": "stdout",
     "output_type": "stream",
     "text": [
      "np.set_printoptions(threshold=float(\"inf\"))\n",
      "Z = np.zeros((40,40))\n",
      "print(Z)\n"
     ]
    }
   ],
   "source": [
    "answer(49)"
   ]
  },
  {
   "cell_type": "code",
   "execution_count": 82,
   "id": "a2b5d087",
   "metadata": {},
   "outputs": [
    {
     "name": "stdout",
     "output_type": "stream",
     "text": [
      "[[0. 0. 0. 0. 0. 0. 0. 0. 0. 0. 0. 0. 0. 0. 0. 0. 0. 0. 0. 0. 0. 0. 0. 0.\n",
      "  0. 0. 0. 0. 0. 0. 0. 0. 0. 0. 0. 0. 0. 0. 0. 0.]\n",
      " [0. 0. 0. 0. 0. 0. 0. 0. 0. 0. 0. 0. 0. 0. 0. 0. 0. 0. 0. 0. 0. 0. 0. 0.\n",
      "  0. 0. 0. 0. 0. 0. 0. 0. 0. 0. 0. 0. 0. 0. 0. 0.]\n",
      " [0. 0. 0. 0. 0. 0. 0. 0. 0. 0. 0. 0. 0. 0. 0. 0. 0. 0. 0. 0. 0. 0. 0. 0.\n",
      "  0. 0. 0. 0. 0. 0. 0. 0. 0. 0. 0. 0. 0. 0. 0. 0.]\n",
      " [0. 0. 0. 0. 0. 0. 0. 0. 0. 0. 0. 0. 0. 0. 0. 0. 0. 0. 0. 0. 0. 0. 0. 0.\n",
      "  0. 0. 0. 0. 0. 0. 0. 0. 0. 0. 0. 0. 0. 0. 0. 0.]\n",
      " [0. 0. 0. 0. 0. 0. 0. 0. 0. 0. 0. 0. 0. 0. 0. 0. 0. 0. 0. 0. 0. 0. 0. 0.\n",
      "  0. 0. 0. 0. 0. 0. 0. 0. 0. 0. 0. 0. 0. 0. 0. 0.]\n",
      " [0. 0. 0. 0. 0. 0. 0. 0. 0. 0. 0. 0. 0. 0. 0. 0. 0. 0. 0. 0. 0. 0. 0. 0.\n",
      "  0. 0. 0. 0. 0. 0. 0. 0. 0. 0. 0. 0. 0. 0. 0. 0.]\n",
      " [0. 0. 0. 0. 0. 0. 0. 0. 0. 0. 0. 0. 0. 0. 0. 0. 0. 0. 0. 0. 0. 0. 0. 0.\n",
      "  0. 0. 0. 0. 0. 0. 0. 0. 0. 0. 0. 0. 0. 0. 0. 0.]\n",
      " [0. 0. 0. 0. 0. 0. 0. 0. 0. 0. 0. 0. 0. 0. 0. 0. 0. 0. 0. 0. 0. 0. 0. 0.\n",
      "  0. 0. 0. 0. 0. 0. 0. 0. 0. 0. 0. 0. 0. 0. 0. 0.]\n",
      " [0. 0. 0. 0. 0. 0. 0. 0. 0. 0. 0. 0. 0. 0. 0. 0. 0. 0. 0. 0. 0. 0. 0. 0.\n",
      "  0. 0. 0. 0. 0. 0. 0. 0. 0. 0. 0. 0. 0. 0. 0. 0.]\n",
      " [0. 0. 0. 0. 0. 0. 0. 0. 0. 0. 0. 0. 0. 0. 0. 0. 0. 0. 0. 0. 0. 0. 0. 0.\n",
      "  0. 0. 0. 0. 0. 0. 0. 0. 0. 0. 0. 0. 0. 0. 0. 0.]\n",
      " [0. 0. 0. 0. 0. 0. 0. 0. 0. 0. 0. 0. 0. 0. 0. 0. 0. 0. 0. 0. 0. 0. 0. 0.\n",
      "  0. 0. 0. 0. 0. 0. 0. 0. 0. 0. 0. 0. 0. 0. 0. 0.]\n",
      " [0. 0. 0. 0. 0. 0. 0. 0. 0. 0. 0. 0. 0. 0. 0. 0. 0. 0. 0. 0. 0. 0. 0. 0.\n",
      "  0. 0. 0. 0. 0. 0. 0. 0. 0. 0. 0. 0. 0. 0. 0. 0.]\n",
      " [0. 0. 0. 0. 0. 0. 0. 0. 0. 0. 0. 0. 0. 0. 0. 0. 0. 0. 0. 0. 0. 0. 0. 0.\n",
      "  0. 0. 0. 0. 0. 0. 0. 0. 0. 0. 0. 0. 0. 0. 0. 0.]\n",
      " [0. 0. 0. 0. 0. 0. 0. 0. 0. 0. 0. 0. 0. 0. 0. 0. 0. 0. 0. 0. 0. 0. 0. 0.\n",
      "  0. 0. 0. 0. 0. 0. 0. 0. 0. 0. 0. 0. 0. 0. 0. 0.]\n",
      " [0. 0. 0. 0. 0. 0. 0. 0. 0. 0. 0. 0. 0. 0. 0. 0. 0. 0. 0. 0. 0. 0. 0. 0.\n",
      "  0. 0. 0. 0. 0. 0. 0. 0. 0. 0. 0. 0. 0. 0. 0. 0.]\n",
      " [0. 0. 0. 0. 0. 0. 0. 0. 0. 0. 0. 0. 0. 0. 0. 0. 0. 0. 0. 0. 0. 0. 0. 0.\n",
      "  0. 0. 0. 0. 0. 0. 0. 0. 0. 0. 0. 0. 0. 0. 0. 0.]\n",
      " [0. 0. 0. 0. 0. 0. 0. 0. 0. 0. 0. 0. 0. 0. 0. 0. 0. 0. 0. 0. 0. 0. 0. 0.\n",
      "  0. 0. 0. 0. 0. 0. 0. 0. 0. 0. 0. 0. 0. 0. 0. 0.]\n",
      " [0. 0. 0. 0. 0. 0. 0. 0. 0. 0. 0. 0. 0. 0. 0. 0. 0. 0. 0. 0. 0. 0. 0. 0.\n",
      "  0. 0. 0. 0. 0. 0. 0. 0. 0. 0. 0. 0. 0. 0. 0. 0.]\n",
      " [0. 0. 0. 0. 0. 0. 0. 0. 0. 0. 0. 0. 0. 0. 0. 0. 0. 0. 0. 0. 0. 0. 0. 0.\n",
      "  0. 0. 0. 0. 0. 0. 0. 0. 0. 0. 0. 0. 0. 0. 0. 0.]\n",
      " [0. 0. 0. 0. 0. 0. 0. 0. 0. 0. 0. 0. 0. 0. 0. 0. 0. 0. 0. 0. 0. 0. 0. 0.\n",
      "  0. 0. 0. 0. 0. 0. 0. 0. 0. 0. 0. 0. 0. 0. 0. 0.]\n",
      " [0. 0. 0. 0. 0. 0. 0. 0. 0. 0. 0. 0. 0. 0. 0. 0. 0. 0. 0. 0. 0. 0. 0. 0.\n",
      "  0. 0. 0. 0. 0. 0. 0. 0. 0. 0. 0. 0. 0. 0. 0. 0.]\n",
      " [0. 0. 0. 0. 0. 0. 0. 0. 0. 0. 0. 0. 0. 0. 0. 0. 0. 0. 0. 0. 0. 0. 0. 0.\n",
      "  0. 0. 0. 0. 0. 0. 0. 0. 0. 0. 0. 0. 0. 0. 0. 0.]\n",
      " [0. 0. 0. 0. 0. 0. 0. 0. 0. 0. 0. 0. 0. 0. 0. 0. 0. 0. 0. 0. 0. 0. 0. 0.\n",
      "  0. 0. 0. 0. 0. 0. 0. 0. 0. 0. 0. 0. 0. 0. 0. 0.]\n",
      " [0. 0. 0. 0. 0. 0. 0. 0. 0. 0. 0. 0. 0. 0. 0. 0. 0. 0. 0. 0. 0. 0. 0. 0.\n",
      "  0. 0. 0. 0. 0. 0. 0. 0. 0. 0. 0. 0. 0. 0. 0. 0.]\n",
      " [0. 0. 0. 0. 0. 0. 0. 0. 0. 0. 0. 0. 0. 0. 0. 0. 0. 0. 0. 0. 0. 0. 0. 0.\n",
      "  0. 0. 0. 0. 0. 0. 0. 0. 0. 0. 0. 0. 0. 0. 0. 0.]\n",
      " [0. 0. 0. 0. 0. 0. 0. 0. 0. 0. 0. 0. 0. 0. 0. 0. 0. 0. 0. 0. 0. 0. 0. 0.\n",
      "  0. 0. 0. 0. 0. 0. 0. 0. 0. 0. 0. 0. 0. 0. 0. 0.]\n",
      " [0. 0. 0. 0. 0. 0. 0. 0. 0. 0. 0. 0. 0. 0. 0. 0. 0. 0. 0. 0. 0. 0. 0. 0.\n",
      "  0. 0. 0. 0. 0. 0. 0. 0. 0. 0. 0. 0. 0. 0. 0. 0.]\n",
      " [0. 0. 0. 0. 0. 0. 0. 0. 0. 0. 0. 0. 0. 0. 0. 0. 0. 0. 0. 0. 0. 0. 0. 0.\n",
      "  0. 0. 0. 0. 0. 0. 0. 0. 0. 0. 0. 0. 0. 0. 0. 0.]\n",
      " [0. 0. 0. 0. 0. 0. 0. 0. 0. 0. 0. 0. 0. 0. 0. 0. 0. 0. 0. 0. 0. 0. 0. 0.\n",
      "  0. 0. 0. 0. 0. 0. 0. 0. 0. 0. 0. 0. 0. 0. 0. 0.]\n",
      " [0. 0. 0. 0. 0. 0. 0. 0. 0. 0. 0. 0. 0. 0. 0. 0. 0. 0. 0. 0. 0. 0. 0. 0.\n",
      "  0. 0. 0. 0. 0. 0. 0. 0. 0. 0. 0. 0. 0. 0. 0. 0.]\n",
      " [0. 0. 0. 0. 0. 0. 0. 0. 0. 0. 0. 0. 0. 0. 0. 0. 0. 0. 0. 0. 0. 0. 0. 0.\n",
      "  0. 0. 0. 0. 0. 0. 0. 0. 0. 0. 0. 0. 0. 0. 0. 0.]\n",
      " [0. 0. 0. 0. 0. 0. 0. 0. 0. 0. 0. 0. 0. 0. 0. 0. 0. 0. 0. 0. 0. 0. 0. 0.\n",
      "  0. 0. 0. 0. 0. 0. 0. 0. 0. 0. 0. 0. 0. 0. 0. 0.]\n",
      " [0. 0. 0. 0. 0. 0. 0. 0. 0. 0. 0. 0. 0. 0. 0. 0. 0. 0. 0. 0. 0. 0. 0. 0.\n",
      "  0. 0. 0. 0. 0. 0. 0. 0. 0. 0. 0. 0. 0. 0. 0. 0.]\n",
      " [0. 0. 0. 0. 0. 0. 0. 0. 0. 0. 0. 0. 0. 0. 0. 0. 0. 0. 0. 0. 0. 0. 0. 0.\n",
      "  0. 0. 0. 0. 0. 0. 0. 0. 0. 0. 0. 0. 0. 0. 0. 0.]\n",
      " [0. 0. 0. 0. 0. 0. 0. 0. 0. 0. 0. 0. 0. 0. 0. 0. 0. 0. 0. 0. 0. 0. 0. 0.\n",
      "  0. 0. 0. 0. 0. 0. 0. 0. 0. 0. 0. 0. 0. 0. 0. 0.]\n",
      " [0. 0. 0. 0. 0. 0. 0. 0. 0. 0. 0. 0. 0. 0. 0. 0. 0. 0. 0. 0. 0. 0. 0. 0.\n",
      "  0. 0. 0. 0. 0. 0. 0. 0. 0. 0. 0. 0. 0. 0. 0. 0.]\n",
      " [0. 0. 0. 0. 0. 0. 0. 0. 0. 0. 0. 0. 0. 0. 0. 0. 0. 0. 0. 0. 0. 0. 0. 0.\n",
      "  0. 0. 0. 0. 0. 0. 0. 0. 0. 0. 0. 0. 0. 0. 0. 0.]\n",
      " [0. 0. 0. 0. 0. 0. 0. 0. 0. 0. 0. 0. 0. 0. 0. 0. 0. 0. 0. 0. 0. 0. 0. 0.\n",
      "  0. 0. 0. 0. 0. 0. 0. 0. 0. 0. 0. 0. 0. 0. 0. 0.]\n",
      " [0. 0. 0. 0. 0. 0. 0. 0. 0. 0. 0. 0. 0. 0. 0. 0. 0. 0. 0. 0. 0. 0. 0. 0.\n",
      "  0. 0. 0. 0. 0. 0. 0. 0. 0. 0. 0. 0. 0. 0. 0. 0.]\n",
      " [0. 0. 0. 0. 0. 0. 0. 0. 0. 0. 0. 0. 0. 0. 0. 0. 0. 0. 0. 0. 0. 0. 0. 0.\n",
      "  0. 0. 0. 0. 0. 0. 0. 0. 0. 0. 0. 0. 0. 0. 0. 0.]]\n"
     ]
    }
   ],
   "source": [
    "np.set_printoptions(threshold=float(\"inf\"))\n",
    "Z = np.zeros((40,40))\n",
    "print(Z)"
   ]
  },
  {
   "cell_type": "markdown",
   "id": "ed655678",
   "metadata": {},
   "source": [
    "#### 50. How to find the closest value (to a given scalar) in a vector? (★★☆)"
   ]
  },
  {
   "cell_type": "code",
   "execution_count": 87,
   "id": "55e0812f",
   "metadata": {},
   "outputs": [
    {
     "data": {
      "text/plain": [
       "7"
      ]
     },
     "execution_count": 87,
     "metadata": {},
     "output_type": "execute_result"
    }
   ],
   "source": [
    "a = np.arange(1, 15)\n",
    "b = 7.365\n",
    "a[np.argmin(np.abs(a - b))]"
   ]
  },
  {
   "cell_type": "code",
   "execution_count": 3,
   "id": "85897998",
   "metadata": {},
   "outputs": [
    {
     "name": "stdout",
     "output_type": "stream",
     "text": [
      "Z = np.arange(100)\n",
      "v = np.random.uniform(0,100)\n",
      "index = (np.abs(Z-v)).argmin()\n",
      "print(Z[index])\n"
     ]
    }
   ],
   "source": [
    "answer(50)"
   ]
  },
  {
   "cell_type": "markdown",
   "id": "3f73f88f",
   "metadata": {},
   "source": [
    "#### 51. Create a structured array representing a position (x,y) and a color (r,g,b) (★★☆)"
   ]
  },
  {
   "cell_type": "code",
   "execution_count": 3,
   "id": "c85fbb4b",
   "metadata": {},
   "outputs": [
    {
     "name": "stdout",
     "output_type": "stream",
     "text": [
      "[((0., 0.), (0., 0., 0.)) ((0., 0.), (0., 0., 0.))\n",
      " ((0., 0.), (0., 0., 0.)) ((0., 0.), (0., 0., 0.))\n",
      " ((0., 0.), (0., 0., 0.)) ((0., 0.), (0., 0., 0.))\n",
      " ((0., 0.), (0., 0., 0.)) ((0., 0.), (0., 0., 0.))\n",
      " ((0., 0.), (0., 0., 0.)) ((0., 0.), (0., 0., 0.))]\n"
     ]
    },
    {
     "name": "stderr",
     "output_type": "stream",
     "text": [
      "C:\\Users\\Николай\\AppData\\Local\\Temp\\ipykernel_5776\\274409719.py:1: FutureWarning: Passing (type, 1) or '1type' as a synonym of type is deprecated; in a future version of numpy, it will be understood as (type, (1,)) / '(1,)type'.\n",
      "  Z = np.zeros(10, [ ('position', [ ('x', float, 1),\n"
     ]
    }
   ],
   "source": [
    "Z = np.zeros(10, [ ('position', [ ('x', float, 1),\n",
    "                                  ('y', float, 1)]),\n",
    "                   ('color',    [ ('r', float, 1),\n",
    "                                  ('g', float, 1),\n",
    "                                  ('b', float, 1)])])\n",
    "print(Z)"
   ]
  },
  {
   "cell_type": "code",
   "execution_count": 4,
   "id": "74b51105",
   "metadata": {},
   "outputs": [
    {
     "name": "stdout",
     "output_type": "stream",
     "text": [
      "Z = np.zeros(10, [ ('position', [ ('x', float, 1),\n",
      "                                  ('y', float, 1)]),\n",
      "                   ('color',    [ ('r', float, 1),\n",
      "                                  ('g', float, 1),\n",
      "                                  ('b', float, 1)])])\n",
      "print(Z)\n"
     ]
    }
   ],
   "source": [
    "answer(51)"
   ]
  },
  {
   "cell_type": "markdown",
   "id": "db83eee0",
   "metadata": {},
   "source": [
    "#### 52. Consider a random vector with shape (100,2) representing coordinates, find point by point distances (★★☆)"
   ]
  },
  {
   "cell_type": "code",
   "execution_count": 7,
   "id": "10884922",
   "metadata": {},
   "outputs": [],
   "source": [
    "Z = np.random.random((10,2))\n",
    "X,Y = np.atleast_2d(Z[:,0], Z[:,1])\n",
    "D = np.sqrt( (X-X.T)**2 + (Y-Y.T)**2)\n"
   ]
  },
  {
   "cell_type": "code",
   "execution_count": 8,
   "metadata": {},
   "outputs": [
    {
     "name": "stdout",
     "output_type": "stream",
     "text": [
      "Z = np.random.random((10,2))\n",
      "X,Y = np.atleast_2d(Z[:,0], Z[:,1])\n",
      "D = np.sqrt( (X-X.T)**2 + (Y-Y.T)**2)\n",
      "print(D)\n",
      "\n",
      "# Much faster with scipy\n",
      "import scipy\n",
      "# Thanks Gavin Heverly-Coulson (#issue 1)\n",
      "import scipy.spatial\n",
      "\n",
      "Z = np.random.random((10,2))\n",
      "D = scipy.spatial.distance.cdist(Z,Z)\n",
      "print(D)\n"
     ]
    }
   ],
   "source": [
    "answer(52)"
   ]
  },
  {
   "cell_type": "markdown",
   "id": "b90e0bb2",
   "metadata": {},
   "source": [
    "#### 53. How to convert a float (32 bits) array into an integer (32 bits) in place?"
   ]
  },
  {
   "cell_type": "code",
   "execution_count": 10,
   "metadata": {},
   "outputs": [],
   "source": [
    "Z = (np.random.rand(10)*100).astype(np.float32)\n",
    "Y = Z.view(np.int32)\n",
    "Y[:] = Z"
   ]
  },
  {
   "cell_type": "code",
   "execution_count": 9,
   "id": "db97ea05",
   "metadata": {},
   "outputs": [
    {
     "name": "stdout",
     "output_type": "stream",
     "text": [
      "# Thanks Vikas (https://stackoverflow.com/a/10622758/5989906)\n",
      "# & unutbu (https://stackoverflow.com/a/4396247/5989906)\n",
      "Z = (np.random.rand(10)*100).astype(np.float32)\n",
      "Y = Z.view(np.int32)\n",
      "Y[:] = Z\n",
      "print(Y)\n"
     ]
    }
   ],
   "source": [
    "answer(53)"
   ]
  },
  {
   "cell_type": "markdown",
   "id": "0d1b021c",
   "metadata": {},
   "source": [
    "#### 54. How to read the following file? (★★☆)\n",
    "```\n",
    "1, 2, 3, 4, 5\n",
    "6,  ,  , 7, 8\n",
    " ,  , 9,10,11\n",
    "```"
   ]
  },
  {
   "cell_type": "code",
   "execution_count": 13,
   "metadata": {},
   "outputs": [
    {
     "data": {
      "text/plain": [
       "array([[ 1,  2,  3,  4,  5],\n",
       "       [ 6, -1, -1,  7,  8],\n",
       "       [-1, -1,  9, 10, 11]])"
      ]
     },
     "execution_count": 13,
     "metadata": {},
     "output_type": "execute_result"
    }
   ],
   "source": [
    "with open('input.txt') as file:\n",
    "    Z = np.genfromtxt(file, delimiter=\",\", dtype=np.int)\n",
    "Z"
   ]
  },
  {
   "cell_type": "code",
   "execution_count": 11,
   "id": "9551928e",
   "metadata": {},
   "outputs": [
    {
     "name": "stdout",
     "output_type": "stream",
     "text": [
      "from io import StringIO\n",
      "\n",
      "# Fake file\n",
      "s = StringIO('''1, 2, 3, 4, 5\n",
      "\n",
      "                6,  ,  , 7, 8\n",
      "\n",
      "                 ,  , 9,10,11\n",
      "''')\n",
      "Z = np.genfromtxt(s, delimiter=\",\", dtype=np.int)\n",
      "print(Z)\n"
     ]
    }
   ],
   "source": [
    "answer(54)"
   ]
  },
  {
   "cell_type": "markdown",
   "id": "56928772",
   "metadata": {},
   "source": [
    "#### 55. What is the equivalent of enumerate for numpy arrays? (★★☆)"
   ]
  },
  {
   "cell_type": "code",
   "execution_count": 16,
   "metadata": {},
   "outputs": [
    {
     "name": "stdout",
     "output_type": "stream",
     "text": [
      "(0, 0) 0\n",
      "(0, 1) 1\n",
      "(0, 2) 2\n",
      "(1, 0) 3\n",
      "(1, 1) 4\n",
      "(1, 2) 5\n",
      "(2, 0) 6\n",
      "(2, 1) 7\n",
      "(2, 2) 8\n",
      "\n",
      "(0, 0) 0\n",
      "(0, 1) 1\n",
      "(0, 2) 2\n",
      "(1, 0) 3\n",
      "(1, 1) 4\n",
      "(1, 2) 5\n",
      "(2, 0) 6\n",
      "(2, 1) 7\n",
      "(2, 2) 8\n"
     ]
    }
   ],
   "source": [
    "Z = np.arange(9).reshape(3,3)\n",
    "for index, value in np.ndenumerate(Z):\n",
    "    print(index, value)\n",
    "print()\n",
    "for index in np.ndindex(Z.shape):\n",
    "    print(index, Z[index])"
   ]
  },
  {
   "cell_type": "code",
   "execution_count": 14,
   "id": "327d9b88",
   "metadata": {},
   "outputs": [
    {
     "name": "stdout",
     "output_type": "stream",
     "text": [
      "Z = np.arange(9).reshape(3,3)\n",
      "for index, value in np.ndenumerate(Z):\n",
      "    print(index, value)\n",
      "for index in np.ndindex(Z.shape):\n",
      "    print(index, Z[index])\n"
     ]
    }
   ],
   "source": [
    "answer(55)"
   ]
  },
  {
   "cell_type": "markdown",
   "id": "257e0bac",
   "metadata": {},
   "source": [
    "#### 56. Generate a generic 2D Gaussian-like array (★★☆)"
   ]
  },
  {
   "cell_type": "code",
   "execution_count": 8,
   "id": "1325d664",
   "metadata": {},
   "outputs": [
    {
     "name": "stdout",
     "output_type": "stream",
     "text": [
      "[[0.36787944 0.44822088 0.51979489 0.57375342 0.60279818 0.60279818\n",
      "  0.57375342 0.51979489 0.44822088 0.36787944]\n",
      " [0.44822088 0.54610814 0.63331324 0.69905581 0.73444367 0.73444367\n",
      "  0.69905581 0.63331324 0.54610814 0.44822088]\n",
      " [0.51979489 0.63331324 0.73444367 0.81068432 0.85172308 0.85172308\n",
      "  0.81068432 0.73444367 0.63331324 0.51979489]\n",
      " [0.57375342 0.69905581 0.81068432 0.89483932 0.9401382  0.9401382\n",
      "  0.89483932 0.81068432 0.69905581 0.57375342]\n",
      " [0.60279818 0.73444367 0.85172308 0.9401382  0.98773022 0.98773022\n",
      "  0.9401382  0.85172308 0.73444367 0.60279818]\n",
      " [0.60279818 0.73444367 0.85172308 0.9401382  0.98773022 0.98773022\n",
      "  0.9401382  0.85172308 0.73444367 0.60279818]\n",
      " [0.57375342 0.69905581 0.81068432 0.89483932 0.9401382  0.9401382\n",
      "  0.89483932 0.81068432 0.69905581 0.57375342]\n",
      " [0.51979489 0.63331324 0.73444367 0.81068432 0.85172308 0.85172308\n",
      "  0.81068432 0.73444367 0.63331324 0.51979489]\n",
      " [0.44822088 0.54610814 0.63331324 0.69905581 0.73444367 0.73444367\n",
      "  0.69905581 0.63331324 0.54610814 0.44822088]\n",
      " [0.36787944 0.44822088 0.51979489 0.57375342 0.60279818 0.60279818\n",
      "  0.57375342 0.51979489 0.44822088 0.36787944]]\n"
     ]
    }
   ],
   "source": [
    "X, Y = np.meshgrid(np.linspace(-1,1,10), np.linspace(-1,1,10))\n",
    "D = np.sqrt(X*X+Y*Y)\n",
    "sigma, mu = 1.0, 0.0\n",
    "G = np.exp(-( (D-mu)**2 / ( 2.0 * sigma**2 ) ) )\n",
    "print(G)"
   ]
  },
  {
   "cell_type": "code",
   "execution_count": 10,
   "metadata": {},
   "outputs": [],
   "source": [
    "import matplotlib.pyplot as plt"
   ]
  },
  {
   "cell_type": "code",
   "execution_count": 12,
   "metadata": {},
   "outputs": [
    {
     "data": {
      "image/png": "[encoded data removed]",
      "text/plain": [
       "<Figure size 640x480 with 1 Axes>"
      ]
     },
     "metadata": {},
     "output_type": "display_data"
    }
   ],
   "source": [
    "fig = plt.figure()\n",
    "ax = fig.add_subplot(111, projection='3d')\n",
    "ax.plot_surface(X, Y, G)\n",
    "plt.show()"
   ]
  },
  {
   "cell_type": "code",
   "execution_count": 7,
   "metadata": {},
   "outputs": [
    {
     "name": "stdout",
     "output_type": "stream",
     "text": [
      "X, Y = np.meshgrid(np.linspace(-1,1,10), np.linspace(-1,1,10))\n",
      "D = np.sqrt(X*X+Y*Y)\n",
      "sigma, mu = 1.0, 0.0\n",
      "G = np.exp(-( (D-mu)**2 / ( 2.0 * sigma**2 ) ) )\n",
      "print(G)\n"
     ]
    }
   ],
   "source": [
    "answer(56)"
   ]
  },
  {
   "cell_type": "markdown",
   "id": "441347ee",
   "metadata": {},
   "source": [
    "#### 57. How to randomly place p elements in a 2D array? (★★☆)"
   ]
  },
  {
   "cell_type": "code",
   "execution_count": null,
   "id": "1e61fce5",
   "metadata": {},
   "outputs": [],
   "source": []
  },
  {
   "cell_type": "markdown",
   "id": "8a76af52",
   "metadata": {},
   "source": [
    "#### 58. Subtract the mean of each row of a matrix (★★☆)"
   ]
  },
  {
   "cell_type": "code",
   "execution_count": null,
   "id": "65cf18e9",
   "metadata": {},
   "outputs": [],
   "source": []
  },
  {
   "cell_type": "markdown",
   "id": "d2dc8b5f",
   "metadata": {},
   "source": [
    "#### 59. How to sort an array by the nth column? (★★☆)"
   ]
  },
  {
   "cell_type": "code",
   "execution_count": null,
   "id": "83b5eafe",
   "metadata": {},
   "outputs": [],
   "source": []
  },
  {
   "cell_type": "markdown",
   "id": "4886f74e",
   "metadata": {},
   "source": [
    "#### 60. How to tell if a given 2D array has null columns? (★★☆)"
   ]
  },
  {
   "cell_type": "code",
   "execution_count": null,
   "id": "7a066dd9",
   "metadata": {},
   "outputs": [],
   "source": []
  },
  {
   "cell_type": "markdown",
   "id": "1f5ad2a9",
   "metadata": {},
   "source": [
    "#### 61. Find the nearest value from a given value in an array (★★☆)"
   ]
  },
  {
   "cell_type": "code",
   "execution_count": null,
   "id": "f53df167",
   "metadata": {},
   "outputs": [],
   "source": []
  },
  {
   "cell_type": "markdown",
   "id": "aa48f9b2",
   "metadata": {},
   "source": [
    "#### 62. Considering two arrays with shape (1,3) and (3,1), how to compute their sum using an iterator? (★★☆)"
   ]
  },
  {
   "cell_type": "code",
   "execution_count": null,
   "id": "68987301",
   "metadata": {},
   "outputs": [],
   "source": []
  },
  {
   "cell_type": "markdown",
   "id": "0bed1516",
   "metadata": {},
   "source": [
    "#### 63. Create an array class that has a name attribute (★★☆)"
   ]
  },
  {
   "cell_type": "code",
   "execution_count": null,
   "id": "fa1d52fc",
   "metadata": {},
   "outputs": [],
   "source": []
  },
  {
   "cell_type": "markdown",
   "id": "463a40bb",
   "metadata": {},
   "source": [
    "#### 64. Consider a given vector, how to add 1 to each element indexed by a second vector (be careful with repeated indices)? (★★★)"
   ]
  },
  {
   "cell_type": "code",
   "execution_count": null,
   "id": "cdb2cad0",
   "metadata": {},
   "outputs": [],
   "source": []
  },
  {
   "cell_type": "markdown",
   "id": "2a2f8219",
   "metadata": {},
   "source": [
    "#### 65. How to accumulate elements of a vector (X) to an array (F) based on an index list (I)? (★★★)"
   ]
  },
  {
   "cell_type": "code",
   "execution_count": null,
   "id": "9cc34a77",
   "metadata": {},
   "outputs": [],
   "source": []
  },
  {
   "cell_type": "markdown",
   "id": "6a6a3c66",
   "metadata": {},
   "source": [
    "#### 66. Considering a (w,h,3) image of (dtype=ubyte), compute the number of unique colors (★★☆)"
   ]
  },
  {
   "cell_type": "code",
   "execution_count": null,
   "id": "c88f5a5e",
   "metadata": {},
   "outputs": [],
   "source": []
  },
  {
   "cell_type": "markdown",
   "id": "4b030baa",
   "metadata": {},
   "source": [
    "#### 67. Considering a four dimensions array, how to get sum over the last two axis at once? (★★★)"
   ]
  },
  {
   "cell_type": "code",
   "execution_count": null,
   "id": "cd2e7c9c",
   "metadata": {},
   "outputs": [],
   "source": []
  },
  {
   "cell_type": "markdown",
   "id": "1fa6053b",
   "metadata": {},
   "source": [
    "#### 68. Considering a one-dimensional vector D, how to compute means of subsets of D using a vector S of same size describing subset  indices? (★★★)"
   ]
  },
  {
   "cell_type": "code",
   "execution_count": null,
   "id": "9b5a070d",
   "metadata": {},
   "outputs": [],
   "source": []
  },
  {
   "cell_type": "markdown",
   "id": "2e7b0395",
   "metadata": {},
   "source": [
    "#### 69. How to get the diagonal of a dot product? (★★★)"
   ]
  },
  {
   "cell_type": "code",
   "execution_count": null,
   "id": "ae437196",
   "metadata": {},
   "outputs": [],
   "source": []
  },
  {
   "cell_type": "markdown",
   "id": "2bf2f8e4",
   "metadata": {},
   "source": [
    "#### 70. Consider the vector [1, 2, 3, 4, 5], how to build a new vector with 3 consecutive zeros interleaved between each value? (★★★)"
   ]
  },
  {
   "cell_type": "code",
   "execution_count": null,
   "id": "8a427342",
   "metadata": {},
   "outputs": [],
   "source": []
  },
  {
   "cell_type": "markdown",
   "id": "fff802ea",
   "metadata": {},
   "source": [
    "#### 71. Consider an array of dimension (5,5,3), how to mulitply it by an array with dimensions (5,5)? (★★★)"
   ]
  },
  {
   "cell_type": "code",
   "execution_count": null,
   "id": "e83ab7b5",
   "metadata": {},
   "outputs": [],
   "source": []
  },
  {
   "cell_type": "markdown",
   "id": "a0865c04",
   "metadata": {},
   "source": [
    "#### 72. How to swap two rows of an array? (★★★)"
   ]
  },
  {
   "cell_type": "code",
   "execution_count": null,
   "id": "bb510428",
   "metadata": {},
   "outputs": [],
   "source": []
  },
  {
   "cell_type": "markdown",
   "id": "52beda8d",
   "metadata": {},
   "source": [
    "#### 73. Consider a set of 10 triplets describing 10 triangles (with shared vertices), find the set of unique line segments composing all the  triangles (★★★)"
   ]
  },
  {
   "cell_type": "code",
   "execution_count": null,
   "id": "5b9895de",
   "metadata": {},
   "outputs": [],
   "source": []
  },
  {
   "cell_type": "markdown",
   "id": "b1f8e571",
   "metadata": {},
   "source": [
    "#### 74. Given a sorted array C that corresponds to a bincount, how to produce an array A such that np.bincount(A) == C? (★★★)"
   ]
  },
  {
   "cell_type": "code",
   "execution_count": null,
   "id": "ea6d42e9",
   "metadata": {},
   "outputs": [],
   "source": []
  },
  {
   "cell_type": "markdown",
   "id": "db1ed658",
   "metadata": {},
   "source": [
    "#### 75. How to compute averages using a sliding window over an array? (★★★)"
   ]
  },
  {
   "cell_type": "code",
   "execution_count": null,
   "id": "9dc6a98a",
   "metadata": {},
   "outputs": [],
   "source": []
  },
  {
   "cell_type": "markdown",
   "id": "1ca35bda",
   "metadata": {},
   "source": [
    "#### 76. Consider a one-dimensional array Z, build a two-dimensional array whose first row is (Z[0],Z[1],Z[2]) and each subsequent row is  shifted by 1 (last row should be (Z[-3],Z[-2],Z[-1]) (★★★)"
   ]
  },
  {
   "cell_type": "code",
   "execution_count": null,
   "id": "900e8b0a",
   "metadata": {},
   "outputs": [],
   "source": []
  },
  {
   "cell_type": "markdown",
   "id": "18bd6fab",
   "metadata": {},
   "source": [
    "#### 77. How to negate a boolean, or to change the sign of a float inplace? (★★★)"
   ]
  },
  {
   "cell_type": "code",
   "execution_count": null,
   "id": "554c5103",
   "metadata": {},
   "outputs": [],
   "source": []
  },
  {
   "cell_type": "markdown",
   "id": "79a5b412",
   "metadata": {},
   "source": [
    "#### 78. Consider 2 sets of points P0,P1 describing lines (2d) and a point p, how to compute distance from p to each line i (P0[i],P1[i])? (★★★)"
   ]
  },
  {
   "cell_type": "code",
   "execution_count": null,
   "id": "4e4eac2f",
   "metadata": {},
   "outputs": [],
   "source": []
  },
  {
   "cell_type": "markdown",
   "id": "33ffa66d",
   "metadata": {},
   "source": [
    "#### 79. Consider 2 sets of points P0,P1 describing lines (2d) and a set of points P, how to compute distance from each point j (P[j]) to each line i (P0[i],P1[i])? (★★★)"
   ]
  },
  {
   "cell_type": "code",
   "execution_count": null,
   "id": "b56c2510",
   "metadata": {},
   "outputs": [],
   "source": []
  },
  {
   "cell_type": "markdown",
   "id": "a0f23dfa",
   "metadata": {},
   "source": [
    "#### 80. Consider an arbitrary array, write a function that extract a subpart with a fixed shape and centered on a given element (pad with a `fill` value when necessary) (★★★)"
   ]
  },
  {
   "cell_type": "code",
   "execution_count": null,
   "id": "4b7b96fc",
   "metadata": {},
   "outputs": [],
   "source": []
  },
  {
   "cell_type": "markdown",
   "id": "cc27e944",
   "metadata": {},
   "source": [
    "#### 81. Consider an array Z = [1,2,3,4,5,6,7,8,9,10,11,12,13,14], how to generate an array R = [[1,2,3,4], [2,3,4,5], [3,4,5,6], ..., [11,12,13,14]]? (★★★)"
   ]
  },
  {
   "cell_type": "code",
   "execution_count": null,
   "id": "2fdaa26c",
   "metadata": {},
   "outputs": [],
   "source": []
  },
  {
   "cell_type": "markdown",
   "id": "9bc44d6e",
   "metadata": {},
   "source": [
    "#### 82. Compute a matrix rank (★★★)"
   ]
  },
  {
   "cell_type": "code",
   "execution_count": null,
   "id": "3a4c7564",
   "metadata": {},
   "outputs": [],
   "source": []
  },
  {
   "cell_type": "markdown",
   "id": "718a82dd",
   "metadata": {},
   "source": [
    "#### 83. How to find the most frequent value in an array?"
   ]
  },
  {
   "cell_type": "code",
   "execution_count": null,
   "id": "8ffc513c",
   "metadata": {},
   "outputs": [],
   "source": []
  },
  {
   "cell_type": "markdown",
   "id": "754ceeba",
   "metadata": {},
   "source": [
    "#### 84. Extract all the contiguous 3x3 blocks from a random 10x10 matrix (★★★)"
   ]
  },
  {
   "cell_type": "code",
   "execution_count": null,
   "id": "c32bb120",
   "metadata": {},
   "outputs": [],
   "source": []
  },
  {
   "cell_type": "markdown",
   "id": "9fc0b63a",
   "metadata": {},
   "source": [
    "#### 85. Create a 2D array subclass such that Z[i,j] == Z[j,i] (★★★)"
   ]
  },
  {
   "cell_type": "code",
   "execution_count": null,
   "id": "c41d0f9b",
   "metadata": {},
   "outputs": [],
   "source": []
  },
  {
   "cell_type": "markdown",
   "id": "ae909782",
   "metadata": {},
   "source": [
    "#### 86. Consider a set of p matrices wich shape (n,n) and a set of p vectors with shape (n,1). How to compute the sum of of the p matrix products at once? (result has shape (n,1)) (★★★)"
   ]
  },
  {
   "cell_type": "code",
   "execution_count": null,
   "id": "013944b1",
   "metadata": {},
   "outputs": [],
   "source": []
  },
  {
   "cell_type": "markdown",
   "id": "5f134bf4",
   "metadata": {},
   "source": [
    "#### 87. Consider a 16x16 array, how to get the block-sum (block size is 4x4)? (★★★)"
   ]
  },
  {
   "cell_type": "code",
   "execution_count": null,
   "id": "bf480005",
   "metadata": {},
   "outputs": [],
   "source": []
  },
  {
   "cell_type": "markdown",
   "id": "aa91a3be",
   "metadata": {},
   "source": [
    "#### 88. How to implement the Game of Life using numpy arrays? (★★★)"
   ]
  },
  {
   "cell_type": "code",
   "execution_count": null,
   "id": "a20f0e2b",
   "metadata": {},
   "outputs": [],
   "source": []
  },
  {
   "cell_type": "markdown",
   "id": "885023d9",
   "metadata": {},
   "source": [
    "#### 89. How to get the n largest values of an array (★★★)"
   ]
  },
  {
   "cell_type": "code",
   "execution_count": null,
   "id": "996ab585",
   "metadata": {},
   "outputs": [],
   "source": []
  },
  {
   "cell_type": "markdown",
   "id": "d0518aeb",
   "metadata": {},
   "source": [
    "#### 90. Given an arbitrary number of vectors, build the cartesian product (every combinations of every item) (★★★)"
   ]
  },
  {
   "cell_type": "code",
   "execution_count": null,
   "id": "d9ae30ca",
   "metadata": {},
   "outputs": [],
   "source": []
  },
  {
   "cell_type": "markdown",
   "id": "20cc5dc6",
   "metadata": {},
   "source": [
    "#### 91. How to create a record array from a regular array? (★★★)"
   ]
  },
  {
   "cell_type": "code",
   "execution_count": null,
   "id": "a7d05a34",
   "metadata": {},
   "outputs": [],
   "source": []
  },
  {
   "cell_type": "markdown",
   "id": "e59a2c44",
   "metadata": {},
   "source": [
    "#### 92. Consider a large vector Z, compute Z to the power of 3 using 3 different methods (★★★)"
   ]
  },
  {
   "cell_type": "code",
   "execution_count": null,
   "id": "916168ea",
   "metadata": {},
   "outputs": [],
   "source": []
  },
  {
   "cell_type": "markdown",
   "id": "f1fc4b70",
   "metadata": {},
   "source": [
    "#### 93. Consider two arrays A and B of shape (8,3) and (2,2). How to find rows of A that contain elements of each row of B regardless of the order of the elements in B? (★★★)"
   ]
  },
  {
   "cell_type": "code",
   "execution_count": null,
   "id": "d35b4705",
   "metadata": {},
   "outputs": [],
   "source": []
  },
  {
   "cell_type": "markdown",
   "id": "821a6ce8",
   "metadata": {},
   "source": [
    "#### 94. Considering a 10x3 matrix, extract rows with unequal values (e.g. [2,2,3]) (★★★)"
   ]
  },
  {
   "cell_type": "code",
   "execution_count": null,
   "id": "5690c131",
   "metadata": {},
   "outputs": [],
   "source": []
  },
  {
   "cell_type": "markdown",
   "id": "9dc9a61c",
   "metadata": {},
   "source": [
    "#### 95. Convert a vector of ints into a matrix binary representation (★★★)"
   ]
  },
  {
   "cell_type": "code",
   "execution_count": null,
   "id": "c728306f",
   "metadata": {},
   "outputs": [],
   "source": []
  },
  {
   "cell_type": "markdown",
   "id": "cca48e6e",
   "metadata": {},
   "source": [
    "#### 96. Given a two dimensional array, how to extract unique rows? (★★★)"
   ]
  },
  {
   "cell_type": "code",
   "execution_count": null,
   "id": "ae2e6484",
   "metadata": {},
   "outputs": [],
   "source": []
  },
  {
   "cell_type": "markdown",
   "id": "3621d474",
   "metadata": {},
   "source": [
    "#### 97. Considering 2 vectors A & B, write the einsum equivalent of inner, outer, sum, and mul function (★★★)"
   ]
  },
  {
   "cell_type": "code",
   "execution_count": null,
   "id": "09238dfb",
   "metadata": {},
   "outputs": [],
   "source": []
  },
  {
   "cell_type": "markdown",
   "id": "26162fae",
   "metadata": {},
   "source": [
    "#### 98. Considering a path described by two vectors (X,Y), how to sample it using equidistant samples (★★★)?"
   ]
  },
  {
   "cell_type": "code",
   "execution_count": null,
   "id": "283c279f",
   "metadata": {},
   "outputs": [],
   "source": []
  },
  {
   "cell_type": "markdown",
   "id": "44b20c57",
   "metadata": {},
   "source": [
    "#### 99. Given an integer n and a 2D array X, select from X the rows which can be interpreted as draws from a multinomial distribution with n degrees, i.e., the rows which only contain integers and which sum to n. (★★★)"
   ]
  },
  {
   "cell_type": "code",
   "execution_count": null,
   "id": "389b7190",
   "metadata": {},
   "outputs": [],
   "source": []
  },
  {
   "cell_type": "markdown",
   "id": "6fa5ed76",
   "metadata": {},
   "source": [
    "#### 100. Compute bootstrapped 95% confidence intervals for the mean of a 1D array X (i.e., resample the elements of an array with replacement N times, compute the mean of each sample, and then compute percentiles over the means). (★★★)"
   ]
  },
  {
   "cell_type": "code",
   "execution_count": null,
   "id": "4db4cc57",
   "metadata": {},
   "outputs": [],
   "source": []
  }
 ],
 "metadata": {
  "kernelspec": {
   "display_name": "Python 3",
   "language": "python",
   "name": "python3"
  },
  "language_info": {
   "codemirror_mode": {
    "name": "ipython",
    "version": 3
   },
   "file_extension": ".py",
   "mimetype": "text/x-python",
   "name": "python",
   "nbconvert_exporter": "python",
   "pygments_lexer": "ipython3",
   "version": "3.10.7"
  },
  "vscode": {
   "interpreter": {
    "hash": "44d05011f940373d2be57d9e1d8060407e025635cb893b36738390f7a5646cad"
   }
  }
 },
 "nbformat": 4,
 "nbformat_minor": 5
}
